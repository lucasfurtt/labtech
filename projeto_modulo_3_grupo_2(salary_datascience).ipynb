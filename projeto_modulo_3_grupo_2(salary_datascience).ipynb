{
  "nbformat": 4,
  "nbformat_minor": 0,
  "metadata": {
    "colab": {
      "provenance": [],
      "include_colab_link": true
    },
    "kernelspec": {
      "name": "python3",
      "display_name": "Python 3"
    },
    "language_info": {
      "name": "python"
    }
  },
  "cells": [
    {
      "cell_type": "markdown",
      "metadata": {
        "id": "view-in-github",
        "colab_type": "text"
      },
      "source": [
        "<a href=\"https://colab.research.google.com/github/lucasfurtt/labtech/blob/main/projeto_modulo_3_grupo_2(salary_datascience).ipynb\" target=\"_parent\"><img src=\"https://colab.research.google.com/assets/colab-badge.svg\" alt=\"Open In Colab\"/></a>"
      ]
    },
    {
      "cell_type": "markdown",
      "source": [
        "# Etapa de Verificação e Tratamento do dataset"
      ],
      "metadata": {
        "id": "EcAc7cQEk7j3"
      }
    },
    {
      "cell_type": "markdown",
      "source": [
        "**Este collab tem como propósito a correção de incongruências do dataset**"
      ],
      "metadata": {
        "id": "gVgSzDbA6ZrS"
      }
    },
    {
      "cell_type": "markdown",
      "source": [
        "Anotações de problemas encontrados no datasets:\n",
        "- Valores nulos encontrados nas tabelas: \n",
        "company\n",
        "level\n",
        "tag\n",
        "gender\n",
        "other details\n",
        "Race\n",
        "Education\n",
        "\n",
        "- Repetição de valores encontrados na coluna \"company\",nomes das empresas contratantes se repetem em formas diferentes (ex: Microsoft e microsoft)\n",
        "\n",
        "- Coluna \"level\" apresenta muitos resultados, acredito ser uma coluna problemática\n",
        "\n",
        "- Em uma consulta a olho nu, percebi alguns outliers na coluna \"totalyearlycompensation\"\n",
        "\n",
        "- Valores estranhos nas colunas \"yearsofexperience\" e \"yearsatcompany\", necessario estudo sobre o dataset( conferir kaggle)\n",
        "\n",
        "- Coluna basesalary possui outliers e valores com 0\n",
        "\n",
        "-\n",
        "\n",
        "\n"
      ],
      "metadata": {
        "id": "4vucHmgIZOI-"
      }
    },
    {
      "cell_type": "markdown",
      "source": [
        "Correções do dataset:\n",
        "\n",
        "Valores nulos\n",
        "- company:\n",
        "- level: Dropar\n",
        "- tag: Dropar\n",
        "- gender: alterar \"Nan\" para \"Não informado\" (tirar dúvida com professor para ver se é utilizável ou não)\n",
        "- other details: Dropar\n",
        "- Race: alterar \"Nan\" para \"Não informado\" (tirar dúvida com professor para ver se é utilizável ou não)\n",
        "- Education: \"Nan\" para \"Não informado\" (tirar dúvida com professor para ver se é utilizável ou não)\n",
        "-location: Dividir em 3 colunas (cidade, estado e páis). Depois dropar colunas não importantes\n",
        "\n",
        "Tabelas que vão ser dropadas: (posteriormente explicar o motivo do drop)\n",
        "- timestamp\n",
        "- rownumber\n",
        "- Masters_Degree\n",
        "- Bachelors_Degree\n",
        "- Doctorate_Degree\n",
        "- Highschool\n",
        "- Some_College\n",
        "- Race_Asian\n",
        "- Race_White\n",
        "- Race_Two_Or_More\n",
        "- Race_Black \n",
        "- Race_Hispanic   \n",
        "\n",
        "Tabelas com correções especificas:\n",
        "- Company: usar função str.title()\n",
        "- basesalary: substituir os '0' pela média ou mediana ou moda dos valores sem outliers\n",
        "- totalyearlycompensation: substituir os '0' pela média ou mediana ou moda dos valores sem outliers\n",
        "\n",
        "Tabelas para análise:\n",
        "- cityid\n",
        "- dmaid\n",
        "- yearsofexperience: Conferir os valores abaixo de 0 e ver o quantidade\n",
        "- yearsatcompany: Conferir os valores abaixo de 0 e ver o quantidade"
      ],
      "metadata": {
        "id": "VJyYYePe17Q6"
      }
    },
    {
      "cell_type": "markdown",
      "source": [],
      "metadata": {
        "id": "Sa0CHX0BTCFN"
      }
    },
    {
      "cell_type": "markdown",
      "source": [
        "#Etapa de Verificação dos dados Marcus"
      ],
      "metadata": {
        "id": "_mXRWNi39yqZ"
      }
    },
    {
      "cell_type": "code",
      "execution_count": null,
      "metadata": {
        "id": "tqNEncTSujmg",
        "colab": {
          "base_uri": "https://localhost:8080/",
          "height": 391
        },
        "outputId": "49e99ff0-0f09-49a6-adac-e0b6c59d18c2"
      },
      "outputs": [
        {
          "output_type": "execute_result",
          "data": {
            "text/plain": [
              "            timestamp    company level                         title  \\\n",
              "0   6/7/2017 11:33:27     Oracle    L3               Product Manager   \n",
              "1  6/10/2017 17:11:29       eBay  SE 2             Software Engineer   \n",
              "2  6/11/2017 14:53:57     Amazon    L7               Product Manager   \n",
              "3   6/17/2017 0:23:14      Apple    M1  Software Engineering Manager   \n",
              "4  6/20/2017 10:58:51  Microsoft    60             Software Engineer   \n",
              "\n",
              "   totalyearlycompensation           location  yearsofexperience  \\\n",
              "0                   127000   Redwood City, CA                1.5   \n",
              "1                   100000  San Francisco, CA                5.0   \n",
              "2                   310000        Seattle, WA                8.0   \n",
              "3                   372000      Sunnyvale, CA                7.0   \n",
              "4                   157000  Mountain View, CA                5.0   \n",
              "\n",
              "   yearsatcompany  tag  basesalary  stockgrantvalue    bonus gender  \\\n",
              "0             1.5  NaN    107000.0          20000.0  10000.0    NaN   \n",
              "1             3.0  NaN         0.0              0.0      0.0    NaN   \n",
              "2             0.0  NaN    155000.0              0.0      0.0    NaN   \n",
              "3             5.0  NaN    157000.0         180000.0  35000.0    NaN   \n",
              "4             3.0  NaN         0.0              0.0      0.0    NaN   \n",
              "\n",
              "  otherdetails  cityid  dmaid  rowNumber  Masters_Degree  Bachelors_Degree  \\\n",
              "0          NaN    7392  807.0          1               0                 0   \n",
              "1          NaN    7419  807.0          2               0                 0   \n",
              "2          NaN   11527  819.0          3               0                 0   \n",
              "3          NaN    7472  807.0          7               0                 0   \n",
              "4          NaN    7322  807.0          9               0                 0   \n",
              "\n",
              "   Doctorate_Degree  Highschool  Some_College  Race_Asian  Race_White  \\\n",
              "0                 0           0             0           0           0   \n",
              "1                 0           0             0           0           0   \n",
              "2                 0           0             0           0           0   \n",
              "3                 0           0             0           0           0   \n",
              "4                 0           0             0           0           0   \n",
              "\n",
              "   Race_Two_Or_More  Race_Black  Race_Hispanic Race Education  \n",
              "0                 0           0              0  NaN       NaN  \n",
              "1                 0           0              0  NaN       NaN  \n",
              "2                 0           0              0  NaN       NaN  \n",
              "3                 0           0              0  NaN       NaN  \n",
              "4                 0           0              0  NaN       NaN  "
            ],
            "text/html": [
              "\n",
              "  <div id=\"df-8f972a89-e606-4d0b-a0c1-404f759b16f9\">\n",
              "    <div class=\"colab-df-container\">\n",
              "      <div>\n",
              "<style scoped>\n",
              "    .dataframe tbody tr th:only-of-type {\n",
              "        vertical-align: middle;\n",
              "    }\n",
              "\n",
              "    .dataframe tbody tr th {\n",
              "        vertical-align: top;\n",
              "    }\n",
              "\n",
              "    .dataframe thead th {\n",
              "        text-align: right;\n",
              "    }\n",
              "</style>\n",
              "<table border=\"1\" class=\"dataframe\">\n",
              "  <thead>\n",
              "    <tr style=\"text-align: right;\">\n",
              "      <th></th>\n",
              "      <th>timestamp</th>\n",
              "      <th>company</th>\n",
              "      <th>level</th>\n",
              "      <th>title</th>\n",
              "      <th>totalyearlycompensation</th>\n",
              "      <th>location</th>\n",
              "      <th>yearsofexperience</th>\n",
              "      <th>yearsatcompany</th>\n",
              "      <th>tag</th>\n",
              "      <th>basesalary</th>\n",
              "      <th>stockgrantvalue</th>\n",
              "      <th>bonus</th>\n",
              "      <th>gender</th>\n",
              "      <th>otherdetails</th>\n",
              "      <th>cityid</th>\n",
              "      <th>dmaid</th>\n",
              "      <th>rowNumber</th>\n",
              "      <th>Masters_Degree</th>\n",
              "      <th>Bachelors_Degree</th>\n",
              "      <th>Doctorate_Degree</th>\n",
              "      <th>Highschool</th>\n",
              "      <th>Some_College</th>\n",
              "      <th>Race_Asian</th>\n",
              "      <th>Race_White</th>\n",
              "      <th>Race_Two_Or_More</th>\n",
              "      <th>Race_Black</th>\n",
              "      <th>Race_Hispanic</th>\n",
              "      <th>Race</th>\n",
              "      <th>Education</th>\n",
              "    </tr>\n",
              "  </thead>\n",
              "  <tbody>\n",
              "    <tr>\n",
              "      <th>0</th>\n",
              "      <td>6/7/2017 11:33:27</td>\n",
              "      <td>Oracle</td>\n",
              "      <td>L3</td>\n",
              "      <td>Product Manager</td>\n",
              "      <td>127000</td>\n",
              "      <td>Redwood City, CA</td>\n",
              "      <td>1.5</td>\n",
              "      <td>1.5</td>\n",
              "      <td>NaN</td>\n",
              "      <td>107000.0</td>\n",
              "      <td>20000.0</td>\n",
              "      <td>10000.0</td>\n",
              "      <td>NaN</td>\n",
              "      <td>NaN</td>\n",
              "      <td>7392</td>\n",
              "      <td>807.0</td>\n",
              "      <td>1</td>\n",
              "      <td>0</td>\n",
              "      <td>0</td>\n",
              "      <td>0</td>\n",
              "      <td>0</td>\n",
              "      <td>0</td>\n",
              "      <td>0</td>\n",
              "      <td>0</td>\n",
              "      <td>0</td>\n",
              "      <td>0</td>\n",
              "      <td>0</td>\n",
              "      <td>NaN</td>\n",
              "      <td>NaN</td>\n",
              "    </tr>\n",
              "    <tr>\n",
              "      <th>1</th>\n",
              "      <td>6/10/2017 17:11:29</td>\n",
              "      <td>eBay</td>\n",
              "      <td>SE 2</td>\n",
              "      <td>Software Engineer</td>\n",
              "      <td>100000</td>\n",
              "      <td>San Francisco, CA</td>\n",
              "      <td>5.0</td>\n",
              "      <td>3.0</td>\n",
              "      <td>NaN</td>\n",
              "      <td>0.0</td>\n",
              "      <td>0.0</td>\n",
              "      <td>0.0</td>\n",
              "      <td>NaN</td>\n",
              "      <td>NaN</td>\n",
              "      <td>7419</td>\n",
              "      <td>807.0</td>\n",
              "      <td>2</td>\n",
              "      <td>0</td>\n",
              "      <td>0</td>\n",
              "      <td>0</td>\n",
              "      <td>0</td>\n",
              "      <td>0</td>\n",
              "      <td>0</td>\n",
              "      <td>0</td>\n",
              "      <td>0</td>\n",
              "      <td>0</td>\n",
              "      <td>0</td>\n",
              "      <td>NaN</td>\n",
              "      <td>NaN</td>\n",
              "    </tr>\n",
              "    <tr>\n",
              "      <th>2</th>\n",
              "      <td>6/11/2017 14:53:57</td>\n",
              "      <td>Amazon</td>\n",
              "      <td>L7</td>\n",
              "      <td>Product Manager</td>\n",
              "      <td>310000</td>\n",
              "      <td>Seattle, WA</td>\n",
              "      <td>8.0</td>\n",
              "      <td>0.0</td>\n",
              "      <td>NaN</td>\n",
              "      <td>155000.0</td>\n",
              "      <td>0.0</td>\n",
              "      <td>0.0</td>\n",
              "      <td>NaN</td>\n",
              "      <td>NaN</td>\n",
              "      <td>11527</td>\n",
              "      <td>819.0</td>\n",
              "      <td>3</td>\n",
              "      <td>0</td>\n",
              "      <td>0</td>\n",
              "      <td>0</td>\n",
              "      <td>0</td>\n",
              "      <td>0</td>\n",
              "      <td>0</td>\n",
              "      <td>0</td>\n",
              "      <td>0</td>\n",
              "      <td>0</td>\n",
              "      <td>0</td>\n",
              "      <td>NaN</td>\n",
              "      <td>NaN</td>\n",
              "    </tr>\n",
              "    <tr>\n",
              "      <th>3</th>\n",
              "      <td>6/17/2017 0:23:14</td>\n",
              "      <td>Apple</td>\n",
              "      <td>M1</td>\n",
              "      <td>Software Engineering Manager</td>\n",
              "      <td>372000</td>\n",
              "      <td>Sunnyvale, CA</td>\n",
              "      <td>7.0</td>\n",
              "      <td>5.0</td>\n",
              "      <td>NaN</td>\n",
              "      <td>157000.0</td>\n",
              "      <td>180000.0</td>\n",
              "      <td>35000.0</td>\n",
              "      <td>NaN</td>\n",
              "      <td>NaN</td>\n",
              "      <td>7472</td>\n",
              "      <td>807.0</td>\n",
              "      <td>7</td>\n",
              "      <td>0</td>\n",
              "      <td>0</td>\n",
              "      <td>0</td>\n",
              "      <td>0</td>\n",
              "      <td>0</td>\n",
              "      <td>0</td>\n",
              "      <td>0</td>\n",
              "      <td>0</td>\n",
              "      <td>0</td>\n",
              "      <td>0</td>\n",
              "      <td>NaN</td>\n",
              "      <td>NaN</td>\n",
              "    </tr>\n",
              "    <tr>\n",
              "      <th>4</th>\n",
              "      <td>6/20/2017 10:58:51</td>\n",
              "      <td>Microsoft</td>\n",
              "      <td>60</td>\n",
              "      <td>Software Engineer</td>\n",
              "      <td>157000</td>\n",
              "      <td>Mountain View, CA</td>\n",
              "      <td>5.0</td>\n",
              "      <td>3.0</td>\n",
              "      <td>NaN</td>\n",
              "      <td>0.0</td>\n",
              "      <td>0.0</td>\n",
              "      <td>0.0</td>\n",
              "      <td>NaN</td>\n",
              "      <td>NaN</td>\n",
              "      <td>7322</td>\n",
              "      <td>807.0</td>\n",
              "      <td>9</td>\n",
              "      <td>0</td>\n",
              "      <td>0</td>\n",
              "      <td>0</td>\n",
              "      <td>0</td>\n",
              "      <td>0</td>\n",
              "      <td>0</td>\n",
              "      <td>0</td>\n",
              "      <td>0</td>\n",
              "      <td>0</td>\n",
              "      <td>0</td>\n",
              "      <td>NaN</td>\n",
              "      <td>NaN</td>\n",
              "    </tr>\n",
              "  </tbody>\n",
              "</table>\n",
              "</div>\n",
              "      <button class=\"colab-df-convert\" onclick=\"convertToInteractive('df-8f972a89-e606-4d0b-a0c1-404f759b16f9')\"\n",
              "              title=\"Convert this dataframe to an interactive table.\"\n",
              "              style=\"display:none;\">\n",
              "        \n",
              "  <svg xmlns=\"http://www.w3.org/2000/svg\" height=\"24px\"viewBox=\"0 0 24 24\"\n",
              "       width=\"24px\">\n",
              "    <path d=\"M0 0h24v24H0V0z\" fill=\"none\"/>\n",
              "    <path d=\"M18.56 5.44l.94 2.06.94-2.06 2.06-.94-2.06-.94-.94-2.06-.94 2.06-2.06.94zm-11 1L8.5 8.5l.94-2.06 2.06-.94-2.06-.94L8.5 2.5l-.94 2.06-2.06.94zm10 10l.94 2.06.94-2.06 2.06-.94-2.06-.94-.94-2.06-.94 2.06-2.06.94z\"/><path d=\"M17.41 7.96l-1.37-1.37c-.4-.4-.92-.59-1.43-.59-.52 0-1.04.2-1.43.59L10.3 9.45l-7.72 7.72c-.78.78-.78 2.05 0 2.83L4 21.41c.39.39.9.59 1.41.59.51 0 1.02-.2 1.41-.59l7.78-7.78 2.81-2.81c.8-.78.8-2.07 0-2.86zM5.41 20L4 18.59l7.72-7.72 1.47 1.35L5.41 20z\"/>\n",
              "  </svg>\n",
              "      </button>\n",
              "      \n",
              "  <style>\n",
              "    .colab-df-container {\n",
              "      display:flex;\n",
              "      flex-wrap:wrap;\n",
              "      gap: 12px;\n",
              "    }\n",
              "\n",
              "    .colab-df-convert {\n",
              "      background-color: #E8F0FE;\n",
              "      border: none;\n",
              "      border-radius: 50%;\n",
              "      cursor: pointer;\n",
              "      display: none;\n",
              "      fill: #1967D2;\n",
              "      height: 32px;\n",
              "      padding: 0 0 0 0;\n",
              "      width: 32px;\n",
              "    }\n",
              "\n",
              "    .colab-df-convert:hover {\n",
              "      background-color: #E2EBFA;\n",
              "      box-shadow: 0px 1px 2px rgba(60, 64, 67, 0.3), 0px 1px 3px 1px rgba(60, 64, 67, 0.15);\n",
              "      fill: #174EA6;\n",
              "    }\n",
              "\n",
              "    [theme=dark] .colab-df-convert {\n",
              "      background-color: #3B4455;\n",
              "      fill: #D2E3FC;\n",
              "    }\n",
              "\n",
              "    [theme=dark] .colab-df-convert:hover {\n",
              "      background-color: #434B5C;\n",
              "      box-shadow: 0px 1px 3px 1px rgba(0, 0, 0, 0.15);\n",
              "      filter: drop-shadow(0px 1px 2px rgba(0, 0, 0, 0.3));\n",
              "      fill: #FFFFFF;\n",
              "    }\n",
              "  </style>\n",
              "\n",
              "      <script>\n",
              "        const buttonEl =\n",
              "          document.querySelector('#df-8f972a89-e606-4d0b-a0c1-404f759b16f9 button.colab-df-convert');\n",
              "        buttonEl.style.display =\n",
              "          google.colab.kernel.accessAllowed ? 'block' : 'none';\n",
              "\n",
              "        async function convertToInteractive(key) {\n",
              "          const element = document.querySelector('#df-8f972a89-e606-4d0b-a0c1-404f759b16f9');\n",
              "          const dataTable =\n",
              "            await google.colab.kernel.invokeFunction('convertToInteractive',\n",
              "                                                     [key], {});\n",
              "          if (!dataTable) return;\n",
              "\n",
              "          const docLinkHtml = 'Like what you see? Visit the ' +\n",
              "            '<a target=\"_blank\" href=https://colab.research.google.com/notebooks/data_table.ipynb>data table notebook</a>'\n",
              "            + ' to learn more about interactive tables.';\n",
              "          element.innerHTML = '';\n",
              "          dataTable['output_type'] = 'display_data';\n",
              "          await google.colab.output.renderOutput(dataTable, element);\n",
              "          const docLink = document.createElement('div');\n",
              "          docLink.innerHTML = docLinkHtml;\n",
              "          element.appendChild(docLink);\n",
              "        }\n",
              "      </script>\n",
              "    </div>\n",
              "  </div>\n",
              "  "
            ]
          },
          "metadata": {},
          "execution_count": 26
        }
      ],
      "source": [
        "import pandas as pd\n",
        "import numpy as np\n",
        "\n",
        "df_salario = pd.read_csv(\"/content/Levels_Fyi_Salary_Data.csv\", sep = ',')\n",
        "df_salario.head()"
      ]
    },
    {
      "cell_type": "code",
      "source": [
        "df_salario.shape"
      ],
      "metadata": {
        "colab": {
          "base_uri": "https://localhost:8080/"
        },
        "id": "ByeHnJ9UZSJi",
        "outputId": "0d060e07-486f-4197-b468-ce3fcb53b0bd"
      },
      "execution_count": null,
      "outputs": [
        {
          "output_type": "execute_result",
          "data": {
            "text/plain": [
              "(62642, 29)"
            ]
          },
          "metadata": {},
          "execution_count": 27
        }
      ]
    },
    {
      "cell_type": "code",
      "source": [
        "df_salario.dtypes"
      ],
      "metadata": {
        "colab": {
          "base_uri": "https://localhost:8080/"
        },
        "id": "uDKrxAE2zwbG",
        "outputId": "37588434-7ede-451b-dace-761461e7141c"
      },
      "execution_count": null,
      "outputs": [
        {
          "output_type": "execute_result",
          "data": {
            "text/plain": [
              "timestamp                   object\n",
              "company                     object\n",
              "level                       object\n",
              "title                       object\n",
              "totalyearlycompensation      int64\n",
              "location                    object\n",
              "yearsofexperience          float64\n",
              "yearsatcompany             float64\n",
              "tag                         object\n",
              "basesalary                 float64\n",
              "stockgrantvalue            float64\n",
              "bonus                      float64\n",
              "gender                      object\n",
              "otherdetails                object\n",
              "cityid                       int64\n",
              "dmaid                      float64\n",
              "rowNumber                    int64\n",
              "Masters_Degree               int64\n",
              "Bachelors_Degree             int64\n",
              "Doctorate_Degree             int64\n",
              "Highschool                   int64\n",
              "Some_College                 int64\n",
              "Race_Asian                   int64\n",
              "Race_White                   int64\n",
              "Race_Two_Or_More             int64\n",
              "Race_Black                   int64\n",
              "Race_Hispanic                int64\n",
              "Race                        object\n",
              "Education                   object\n",
              "dtype: object"
            ]
          },
          "metadata": {},
          "execution_count": 28
        }
      ]
    },
    {
      "cell_type": "markdown",
      "source": [
        "Alteração para que consigamos visuzalizar no display do colab mais linhas e colunas"
      ],
      "metadata": {
        "id": "s2K3HgMBVeOs"
      }
    },
    {
      "cell_type": "code",
      "source": [
        "pd.set_option('display.max_columns', 30)"
      ],
      "metadata": {
        "id": "yH_5MpOG3aF1"
      },
      "execution_count": null,
      "outputs": []
    },
    {
      "cell_type": "code",
      "source": [
        "pd.set_option('display.max_rows', 80000)"
      ],
      "metadata": {
        "id": "SkpNzCN4X3Xj"
      },
      "execution_count": null,
      "outputs": []
    },
    {
      "cell_type": "code",
      "source": [
        "df_salario.head()"
      ],
      "metadata": {
        "colab": {
          "base_uri": "https://localhost:8080/",
          "height": 391
        },
        "id": "BJx7PuwpX7jR",
        "outputId": "17189eb6-ddf8-4659-fd5a-ea22a45d3b17"
      },
      "execution_count": null,
      "outputs": [
        {
          "output_type": "execute_result",
          "data": {
            "text/plain": [
              "            timestamp    company level                         title  \\\n",
              "0   6/7/2017 11:33:27     Oracle    L3               Product Manager   \n",
              "1  6/10/2017 17:11:29       eBay  SE 2             Software Engineer   \n",
              "2  6/11/2017 14:53:57     Amazon    L7               Product Manager   \n",
              "3   6/17/2017 0:23:14      Apple    M1  Software Engineering Manager   \n",
              "4  6/20/2017 10:58:51  Microsoft    60             Software Engineer   \n",
              "\n",
              "   totalyearlycompensation           location  yearsofexperience  \\\n",
              "0                   127000   Redwood City, CA                1.5   \n",
              "1                   100000  San Francisco, CA                5.0   \n",
              "2                   310000        Seattle, WA                8.0   \n",
              "3                   372000      Sunnyvale, CA                7.0   \n",
              "4                   157000  Mountain View, CA                5.0   \n",
              "\n",
              "   yearsatcompany  tag  basesalary  stockgrantvalue    bonus gender  \\\n",
              "0             1.5  NaN    107000.0          20000.0  10000.0    NaN   \n",
              "1             3.0  NaN         0.0              0.0      0.0    NaN   \n",
              "2             0.0  NaN    155000.0              0.0      0.0    NaN   \n",
              "3             5.0  NaN    157000.0         180000.0  35000.0    NaN   \n",
              "4             3.0  NaN         0.0              0.0      0.0    NaN   \n",
              "\n",
              "  otherdetails  cityid  dmaid  rowNumber  Masters_Degree  Bachelors_Degree  \\\n",
              "0          NaN    7392  807.0          1               0                 0   \n",
              "1          NaN    7419  807.0          2               0                 0   \n",
              "2          NaN   11527  819.0          3               0                 0   \n",
              "3          NaN    7472  807.0          7               0                 0   \n",
              "4          NaN    7322  807.0          9               0                 0   \n",
              "\n",
              "   Doctorate_Degree  Highschool  Some_College  Race_Asian  Race_White  \\\n",
              "0                 0           0             0           0           0   \n",
              "1                 0           0             0           0           0   \n",
              "2                 0           0             0           0           0   \n",
              "3                 0           0             0           0           0   \n",
              "4                 0           0             0           0           0   \n",
              "\n",
              "   Race_Two_Or_More  Race_Black  Race_Hispanic Race Education  \n",
              "0                 0           0              0  NaN       NaN  \n",
              "1                 0           0              0  NaN       NaN  \n",
              "2                 0           0              0  NaN       NaN  \n",
              "3                 0           0              0  NaN       NaN  \n",
              "4                 0           0              0  NaN       NaN  "
            ],
            "text/html": [
              "\n",
              "  <div id=\"df-a64cec90-cb74-405d-a551-c436a2da8b5b\">\n",
              "    <div class=\"colab-df-container\">\n",
              "      <div>\n",
              "<style scoped>\n",
              "    .dataframe tbody tr th:only-of-type {\n",
              "        vertical-align: middle;\n",
              "    }\n",
              "\n",
              "    .dataframe tbody tr th {\n",
              "        vertical-align: top;\n",
              "    }\n",
              "\n",
              "    .dataframe thead th {\n",
              "        text-align: right;\n",
              "    }\n",
              "</style>\n",
              "<table border=\"1\" class=\"dataframe\">\n",
              "  <thead>\n",
              "    <tr style=\"text-align: right;\">\n",
              "      <th></th>\n",
              "      <th>timestamp</th>\n",
              "      <th>company</th>\n",
              "      <th>level</th>\n",
              "      <th>title</th>\n",
              "      <th>totalyearlycompensation</th>\n",
              "      <th>location</th>\n",
              "      <th>yearsofexperience</th>\n",
              "      <th>yearsatcompany</th>\n",
              "      <th>tag</th>\n",
              "      <th>basesalary</th>\n",
              "      <th>stockgrantvalue</th>\n",
              "      <th>bonus</th>\n",
              "      <th>gender</th>\n",
              "      <th>otherdetails</th>\n",
              "      <th>cityid</th>\n",
              "      <th>dmaid</th>\n",
              "      <th>rowNumber</th>\n",
              "      <th>Masters_Degree</th>\n",
              "      <th>Bachelors_Degree</th>\n",
              "      <th>Doctorate_Degree</th>\n",
              "      <th>Highschool</th>\n",
              "      <th>Some_College</th>\n",
              "      <th>Race_Asian</th>\n",
              "      <th>Race_White</th>\n",
              "      <th>Race_Two_Or_More</th>\n",
              "      <th>Race_Black</th>\n",
              "      <th>Race_Hispanic</th>\n",
              "      <th>Race</th>\n",
              "      <th>Education</th>\n",
              "    </tr>\n",
              "  </thead>\n",
              "  <tbody>\n",
              "    <tr>\n",
              "      <th>0</th>\n",
              "      <td>6/7/2017 11:33:27</td>\n",
              "      <td>Oracle</td>\n",
              "      <td>L3</td>\n",
              "      <td>Product Manager</td>\n",
              "      <td>127000</td>\n",
              "      <td>Redwood City, CA</td>\n",
              "      <td>1.5</td>\n",
              "      <td>1.5</td>\n",
              "      <td>NaN</td>\n",
              "      <td>107000.0</td>\n",
              "      <td>20000.0</td>\n",
              "      <td>10000.0</td>\n",
              "      <td>NaN</td>\n",
              "      <td>NaN</td>\n",
              "      <td>7392</td>\n",
              "      <td>807.0</td>\n",
              "      <td>1</td>\n",
              "      <td>0</td>\n",
              "      <td>0</td>\n",
              "      <td>0</td>\n",
              "      <td>0</td>\n",
              "      <td>0</td>\n",
              "      <td>0</td>\n",
              "      <td>0</td>\n",
              "      <td>0</td>\n",
              "      <td>0</td>\n",
              "      <td>0</td>\n",
              "      <td>NaN</td>\n",
              "      <td>NaN</td>\n",
              "    </tr>\n",
              "    <tr>\n",
              "      <th>1</th>\n",
              "      <td>6/10/2017 17:11:29</td>\n",
              "      <td>eBay</td>\n",
              "      <td>SE 2</td>\n",
              "      <td>Software Engineer</td>\n",
              "      <td>100000</td>\n",
              "      <td>San Francisco, CA</td>\n",
              "      <td>5.0</td>\n",
              "      <td>3.0</td>\n",
              "      <td>NaN</td>\n",
              "      <td>0.0</td>\n",
              "      <td>0.0</td>\n",
              "      <td>0.0</td>\n",
              "      <td>NaN</td>\n",
              "      <td>NaN</td>\n",
              "      <td>7419</td>\n",
              "      <td>807.0</td>\n",
              "      <td>2</td>\n",
              "      <td>0</td>\n",
              "      <td>0</td>\n",
              "      <td>0</td>\n",
              "      <td>0</td>\n",
              "      <td>0</td>\n",
              "      <td>0</td>\n",
              "      <td>0</td>\n",
              "      <td>0</td>\n",
              "      <td>0</td>\n",
              "      <td>0</td>\n",
              "      <td>NaN</td>\n",
              "      <td>NaN</td>\n",
              "    </tr>\n",
              "    <tr>\n",
              "      <th>2</th>\n",
              "      <td>6/11/2017 14:53:57</td>\n",
              "      <td>Amazon</td>\n",
              "      <td>L7</td>\n",
              "      <td>Product Manager</td>\n",
              "      <td>310000</td>\n",
              "      <td>Seattle, WA</td>\n",
              "      <td>8.0</td>\n",
              "      <td>0.0</td>\n",
              "      <td>NaN</td>\n",
              "      <td>155000.0</td>\n",
              "      <td>0.0</td>\n",
              "      <td>0.0</td>\n",
              "      <td>NaN</td>\n",
              "      <td>NaN</td>\n",
              "      <td>11527</td>\n",
              "      <td>819.0</td>\n",
              "      <td>3</td>\n",
              "      <td>0</td>\n",
              "      <td>0</td>\n",
              "      <td>0</td>\n",
              "      <td>0</td>\n",
              "      <td>0</td>\n",
              "      <td>0</td>\n",
              "      <td>0</td>\n",
              "      <td>0</td>\n",
              "      <td>0</td>\n",
              "      <td>0</td>\n",
              "      <td>NaN</td>\n",
              "      <td>NaN</td>\n",
              "    </tr>\n",
              "    <tr>\n",
              "      <th>3</th>\n",
              "      <td>6/17/2017 0:23:14</td>\n",
              "      <td>Apple</td>\n",
              "      <td>M1</td>\n",
              "      <td>Software Engineering Manager</td>\n",
              "      <td>372000</td>\n",
              "      <td>Sunnyvale, CA</td>\n",
              "      <td>7.0</td>\n",
              "      <td>5.0</td>\n",
              "      <td>NaN</td>\n",
              "      <td>157000.0</td>\n",
              "      <td>180000.0</td>\n",
              "      <td>35000.0</td>\n",
              "      <td>NaN</td>\n",
              "      <td>NaN</td>\n",
              "      <td>7472</td>\n",
              "      <td>807.0</td>\n",
              "      <td>7</td>\n",
              "      <td>0</td>\n",
              "      <td>0</td>\n",
              "      <td>0</td>\n",
              "      <td>0</td>\n",
              "      <td>0</td>\n",
              "      <td>0</td>\n",
              "      <td>0</td>\n",
              "      <td>0</td>\n",
              "      <td>0</td>\n",
              "      <td>0</td>\n",
              "      <td>NaN</td>\n",
              "      <td>NaN</td>\n",
              "    </tr>\n",
              "    <tr>\n",
              "      <th>4</th>\n",
              "      <td>6/20/2017 10:58:51</td>\n",
              "      <td>Microsoft</td>\n",
              "      <td>60</td>\n",
              "      <td>Software Engineer</td>\n",
              "      <td>157000</td>\n",
              "      <td>Mountain View, CA</td>\n",
              "      <td>5.0</td>\n",
              "      <td>3.0</td>\n",
              "      <td>NaN</td>\n",
              "      <td>0.0</td>\n",
              "      <td>0.0</td>\n",
              "      <td>0.0</td>\n",
              "      <td>NaN</td>\n",
              "      <td>NaN</td>\n",
              "      <td>7322</td>\n",
              "      <td>807.0</td>\n",
              "      <td>9</td>\n",
              "      <td>0</td>\n",
              "      <td>0</td>\n",
              "      <td>0</td>\n",
              "      <td>0</td>\n",
              "      <td>0</td>\n",
              "      <td>0</td>\n",
              "      <td>0</td>\n",
              "      <td>0</td>\n",
              "      <td>0</td>\n",
              "      <td>0</td>\n",
              "      <td>NaN</td>\n",
              "      <td>NaN</td>\n",
              "    </tr>\n",
              "  </tbody>\n",
              "</table>\n",
              "</div>\n",
              "      <button class=\"colab-df-convert\" onclick=\"convertToInteractive('df-a64cec90-cb74-405d-a551-c436a2da8b5b')\"\n",
              "              title=\"Convert this dataframe to an interactive table.\"\n",
              "              style=\"display:none;\">\n",
              "        \n",
              "  <svg xmlns=\"http://www.w3.org/2000/svg\" height=\"24px\"viewBox=\"0 0 24 24\"\n",
              "       width=\"24px\">\n",
              "    <path d=\"M0 0h24v24H0V0z\" fill=\"none\"/>\n",
              "    <path d=\"M18.56 5.44l.94 2.06.94-2.06 2.06-.94-2.06-.94-.94-2.06-.94 2.06-2.06.94zm-11 1L8.5 8.5l.94-2.06 2.06-.94-2.06-.94L8.5 2.5l-.94 2.06-2.06.94zm10 10l.94 2.06.94-2.06 2.06-.94-2.06-.94-.94-2.06-.94 2.06-2.06.94z\"/><path d=\"M17.41 7.96l-1.37-1.37c-.4-.4-.92-.59-1.43-.59-.52 0-1.04.2-1.43.59L10.3 9.45l-7.72 7.72c-.78.78-.78 2.05 0 2.83L4 21.41c.39.39.9.59 1.41.59.51 0 1.02-.2 1.41-.59l7.78-7.78 2.81-2.81c.8-.78.8-2.07 0-2.86zM5.41 20L4 18.59l7.72-7.72 1.47 1.35L5.41 20z\"/>\n",
              "  </svg>\n",
              "      </button>\n",
              "      \n",
              "  <style>\n",
              "    .colab-df-container {\n",
              "      display:flex;\n",
              "      flex-wrap:wrap;\n",
              "      gap: 12px;\n",
              "    }\n",
              "\n",
              "    .colab-df-convert {\n",
              "      background-color: #E8F0FE;\n",
              "      border: none;\n",
              "      border-radius: 50%;\n",
              "      cursor: pointer;\n",
              "      display: none;\n",
              "      fill: #1967D2;\n",
              "      height: 32px;\n",
              "      padding: 0 0 0 0;\n",
              "      width: 32px;\n",
              "    }\n",
              "\n",
              "    .colab-df-convert:hover {\n",
              "      background-color: #E2EBFA;\n",
              "      box-shadow: 0px 1px 2px rgba(60, 64, 67, 0.3), 0px 1px 3px 1px rgba(60, 64, 67, 0.15);\n",
              "      fill: #174EA6;\n",
              "    }\n",
              "\n",
              "    [theme=dark] .colab-df-convert {\n",
              "      background-color: #3B4455;\n",
              "      fill: #D2E3FC;\n",
              "    }\n",
              "\n",
              "    [theme=dark] .colab-df-convert:hover {\n",
              "      background-color: #434B5C;\n",
              "      box-shadow: 0px 1px 3px 1px rgba(0, 0, 0, 0.15);\n",
              "      filter: drop-shadow(0px 1px 2px rgba(0, 0, 0, 0.3));\n",
              "      fill: #FFFFFF;\n",
              "    }\n",
              "  </style>\n",
              "\n",
              "      <script>\n",
              "        const buttonEl =\n",
              "          document.querySelector('#df-a64cec90-cb74-405d-a551-c436a2da8b5b button.colab-df-convert');\n",
              "        buttonEl.style.display =\n",
              "          google.colab.kernel.accessAllowed ? 'block' : 'none';\n",
              "\n",
              "        async function convertToInteractive(key) {\n",
              "          const element = document.querySelector('#df-a64cec90-cb74-405d-a551-c436a2da8b5b');\n",
              "          const dataTable =\n",
              "            await google.colab.kernel.invokeFunction('convertToInteractive',\n",
              "                                                     [key], {});\n",
              "          if (!dataTable) return;\n",
              "\n",
              "          const docLinkHtml = 'Like what you see? Visit the ' +\n",
              "            '<a target=\"_blank\" href=https://colab.research.google.com/notebooks/data_table.ipynb>data table notebook</a>'\n",
              "            + ' to learn more about interactive tables.';\n",
              "          element.innerHTML = '';\n",
              "          dataTable['output_type'] = 'display_data';\n",
              "          await google.colab.output.renderOutput(dataTable, element);\n",
              "          const docLink = document.createElement('div');\n",
              "          docLink.innerHTML = docLinkHtml;\n",
              "          element.appendChild(docLink);\n",
              "        }\n",
              "      </script>\n",
              "    </div>\n",
              "  </div>\n",
              "  "
            ]
          },
          "metadata": {},
          "execution_count": 31
        }
      ]
    },
    {
      "cell_type": "markdown",
      "source": [
        "Verificação do tamanho da base em questão com todas as linhas e colunas"
      ],
      "metadata": {
        "id": "TWq_FRQ9Vo7P"
      }
    },
    {
      "cell_type": "code",
      "source": [
        "df_salario.shape"
      ],
      "metadata": {
        "colab": {
          "base_uri": "https://localhost:8080/"
        },
        "id": "q9-EI95RtvZ1",
        "outputId": "01c3324f-f596-450c-d06f-182b419460be"
      },
      "execution_count": null,
      "outputs": [
        {
          "output_type": "execute_result",
          "data": {
            "text/plain": [
              "(62642, 29)"
            ]
          },
          "metadata": {},
          "execution_count": 32
        }
      ]
    },
    {
      "cell_type": "markdown",
      "source": [
        "Verificando quantos valores NA temos dentro da base em questão, foi um ponto crucial onde tivemos que decidir o que fariamos com algumas colunas, exemplo gender otherdetails e afins"
      ],
      "metadata": {
        "id": "_Q-hKXJYVwCi"
      }
    },
    {
      "cell_type": "code",
      "source": [
        "df_salario.isnull().sum()"
      ],
      "metadata": {
        "colab": {
          "base_uri": "https://localhost:8080/"
        },
        "id": "6lGO4bd8YHGR",
        "outputId": "aa04dc59-7ece-4f52-8305-090e948c1922"
      },
      "execution_count": null,
      "outputs": [
        {
          "output_type": "execute_result",
          "data": {
            "text/plain": [
              "timestamp                      0\n",
              "company                        5\n",
              "level                        119\n",
              "title                          0\n",
              "totalyearlycompensation        0\n",
              "location                       0\n",
              "yearsofexperience              0\n",
              "yearsatcompany                 0\n",
              "tag                          854\n",
              "basesalary                     0\n",
              "stockgrantvalue                0\n",
              "bonus                          0\n",
              "gender                     19540\n",
              "otherdetails               22505\n",
              "cityid                         0\n",
              "dmaid                          2\n",
              "rowNumber                      0\n",
              "Masters_Degree                 0\n",
              "Bachelors_Degree               0\n",
              "Doctorate_Degree               0\n",
              "Highschool                     0\n",
              "Some_College                   0\n",
              "Race_Asian                     0\n",
              "Race_White                     0\n",
              "Race_Two_Or_More               0\n",
              "Race_Black                     0\n",
              "Race_Hispanic                  0\n",
              "Race                       40215\n",
              "Education                  32272\n",
              "dtype: int64"
            ]
          },
          "metadata": {},
          "execution_count": 33
        }
      ]
    },
    {
      "cell_type": "markdown",
      "source": [
        "Foi verificado nas principais tabelas quantas valores diferentes tinhamos nos 62 mil registros"
      ],
      "metadata": {
        "id": "Qh_zakQiV930"
      }
    },
    {
      "cell_type": "code",
      "source": [
        "df_salario['company'].value_counts()"
      ],
      "metadata": {
        "id": "34oS-sXuYP6m"
      },
      "execution_count": null,
      "outputs": []
    },
    {
      "cell_type": "code",
      "source": [
        "df_salario['level'].value_counts()"
      ],
      "metadata": {
        "id": "KwN4iNlBaDc1"
      },
      "execution_count": null,
      "outputs": []
    },
    {
      "cell_type": "code",
      "source": [
        "df_salario['title'].value_counts()"
      ],
      "metadata": {
        "id": "Jbs1_JPSajL7"
      },
      "execution_count": null,
      "outputs": []
    },
    {
      "cell_type": "code",
      "source": [
        "df_salario['totalyearlycompensation'].value_counts()     "
      ],
      "metadata": {
        "id": "YB4OljohaoJt"
      },
      "execution_count": null,
      "outputs": []
    },
    {
      "cell_type": "code",
      "source": [
        "df_salario['location'].value_counts()     "
      ],
      "metadata": {
        "id": "xb0dRMmva2k6"
      },
      "execution_count": null,
      "outputs": []
    },
    {
      "cell_type": "code",
      "source": [
        "df_salario['yearsofexperience'].value_counts()     "
      ],
      "metadata": {
        "id": "bSNAjDQ_bX6e"
      },
      "execution_count": null,
      "outputs": []
    },
    {
      "cell_type": "code",
      "source": [
        "df_salario['yearsatcompany'].value_counts()  "
      ],
      "metadata": {
        "id": "_Ve01c4Qbykq"
      },
      "execution_count": null,
      "outputs": []
    },
    {
      "cell_type": "code",
      "source": [
        "df_salario['tag'].value_counts()  "
      ],
      "metadata": {
        "id": "yVqGKztZcAQq"
      },
      "execution_count": null,
      "outputs": []
    },
    {
      "cell_type": "code",
      "source": [
        "df_salario['basesalary'].value_counts()  "
      ],
      "metadata": {
        "id": "PehVUn5FckRm"
      },
      "execution_count": null,
      "outputs": []
    },
    {
      "cell_type": "code",
      "source": [
        "df_salario['Race'].value_counts()  "
      ],
      "metadata": {
        "id": "uM8Tf62VdIiS"
      },
      "execution_count": null,
      "outputs": []
    },
    {
      "cell_type": "code",
      "source": [
        "df_salario['Education'].value_counts()  "
      ],
      "metadata": {
        "id": "jW0iRmV2dRn4"
      },
      "execution_count": null,
      "outputs": []
    },
    {
      "cell_type": "code",
      "source": [
        "df_salario['gender'].value_counts()  "
      ],
      "metadata": {
        "id": "q5GL15xodfKp"
      },
      "execution_count": null,
      "outputs": []
    },
    {
      "cell_type": "code",
      "source": [
        "df_salario['otherdetails'].value_counts()  "
      ],
      "metadata": {
        "id": "_4ZzRmKQdmp_"
      },
      "execution_count": null,
      "outputs": []
    },
    {
      "cell_type": "code",
      "source": [
        "df_salario['cityid'].unique()"
      ],
      "metadata": {
        "id": "hQNhreZ7d1np"
      },
      "execution_count": null,
      "outputs": []
    },
    {
      "cell_type": "markdown",
      "source": [
        "Copiando o data set original para fazer alterações sem fazer a alteração na nossa fonte em questão"
      ],
      "metadata": {
        "id": "o0J_CPOpWKgM"
      }
    },
    {
      "cell_type": "markdown",
      "source": [],
      "metadata": {
        "id": "7C58Se3rTtjs"
      }
    },
    {
      "cell_type": "markdown",
      "source": [
        "# Furtado"
      ],
      "metadata": {
        "id": "kbC3cwW7TqJl"
      }
    },
    {
      "cell_type": "code",
      "source": [
        "df_salario_teste = df_salario.copy()"
      ],
      "metadata": {
        "id": "eYaChigGpCH2"
      },
      "execution_count": null,
      "outputs": []
    },
    {
      "cell_type": "code",
      "source": [
        "df_salario_teste.isna().sum()"
      ],
      "metadata": {
        "id": "abWPhnR1t17W"
      },
      "execution_count": null,
      "outputs": []
    },
    {
      "cell_type": "markdown",
      "source": [
        "Verificação de quantos outliers tinhamos na coluna base de salario que junto com a coluna Ano salario são as principais do nosso data set"
      ],
      "metadata": {
        "id": "ojkGCrBoXr5Q"
      }
    },
    {
      "cell_type": "code",
      "source": [
        "import numpy as np\n",
        "\n",
        "\n",
        "\n",
        "def calcula_out(X):\n",
        "\n",
        "\n",
        "  q1,q3 = np.quantile(X,[0.25,0.75])\n",
        "  iqr =  q3 - q1\n",
        "  is_outliers = ((X<(q1-1.5*iqr)) | (X>(q3+1.5*iqr)))\n",
        "  outliers_count  = np.count_nonzero(is_outliers)\n",
        "\n",
        "  return is_outliers,outliers_count, X[is_outliers]\n",
        "\n",
        "\n",
        "is_outlier, outliers_count, outliers = calcula_out(df_salario_teste['basesalary'])\n",
        "print(outliers_count)\n",
        "#print(outliers)\n"
      ],
      "metadata": {
        "colab": {
          "base_uri": "https://localhost:8080/"
        },
        "id": "6xqQY-yg8bve",
        "outputId": "0cbd05fc-ad09-4c73-e354-d76ea35fb062"
      },
      "execution_count": null,
      "outputs": [
        {
          "output_type": "stream",
          "name": "stdout",
          "text": [
            "3509\n"
          ]
        }
      ]
    },
    {
      "cell_type": "code",
      "source": [
        "import numpy as np\n",
        "\n",
        "\n",
        "\n",
        "def calcula_out(X):\n",
        "\n",
        "\n",
        "  q1,q3 = np.quantile(X,[0.25,0.75])\n",
        "  iqr =  q3 - q1\n",
        "  is_outliers = ((X<(q1-1.5*iqr)) | (X>(q3+1.5*iqr)))\n",
        "  outliers_count  = np.count_nonzero(is_outliers)\n",
        "\n",
        "  return is_outliers,outliers_count, X[is_outliers]\n",
        "\n",
        "\n",
        "is_outlier, outliers_count, outliers = calcula_out(df_salario_teste['totalyearlycompensation'])\n",
        "print(outliers_count)\n",
        "#print(outliers)"
      ],
      "metadata": {
        "colab": {
          "base_uri": "https://localhost:8080/"
        },
        "id": "acaeGbbe-lsq",
        "outputId": "51f1b47e-6885-4da4-f370-954a9b6a76df"
      },
      "execution_count": null,
      "outputs": [
        {
          "output_type": "stream",
          "name": "stdout",
          "text": [
            "3133\n"
          ]
        }
      ]
    },
    {
      "cell_type": "markdown",
      "source": [
        "Usamos a função .corr() que nos traz a matriz de correlação para termos uma ideia de quais colunas se relacionavam entre si"
      ],
      "metadata": {
        "id": "4rPqtRrBYZ3r"
      }
    },
    {
      "cell_type": "code",
      "source": [
        "# Matriz de correlação\n",
        "df_salario.corr()"
      ],
      "metadata": {
        "colab": {
          "base_uri": "https://localhost:8080/",
          "height": 709
        },
        "id": "G1lrt0H2zjzZ",
        "outputId": "c1ef443c-32a0-4eeb-81c4-c83e2d667a95"
      },
      "execution_count": null,
      "outputs": [
        {
          "output_type": "execute_result",
          "data": {
            "text/plain": [
              "                         totalyearlycompensation  yearsofexperience  \\\n",
              "totalyearlycompensation                 1.000000           0.422879   \n",
              "yearsofexperience                       0.422879           1.000000   \n",
              "yearsatcompany                          0.165802           0.522611   \n",
              "basesalary                              0.672865           0.374437   \n",
              "stockgrantvalue                         0.770756           0.289631   \n",
              "bonus                                   0.489454           0.261051   \n",
              "cityid                                 -0.110204          -0.014100   \n",
              "dmaid                                   0.376346           0.030903   \n",
              "rowNumber                              -0.092622          -0.002836   \n",
              "Masters_Degree                          0.018320           0.060310   \n",
              "Bachelors_Degree                       -0.139866          -0.069468   \n",
              "Doctorate_Degree                        0.097179          -0.005380   \n",
              "Highschool                             -0.014831           0.011605   \n",
              "Some_College                           -0.003380           0.037925   \n",
              "Race_Asian                             -0.080072          -0.052659   \n",
              "Race_White                             -0.027802           0.064712   \n",
              "Race_Two_Or_More                       -0.009623          -0.013917   \n",
              "Race_Black                             -0.026741          -0.022675   \n",
              "Race_Hispanic                          -0.026145          -0.002232   \n",
              "\n",
              "                         yearsatcompany  basesalary  stockgrantvalue  \\\n",
              "totalyearlycompensation        0.165802    0.672865         0.770756   \n",
              "yearsofexperience              0.522611    0.374437         0.289631   \n",
              "yearsatcompany                 1.000000    0.145596         0.089492   \n",
              "basesalary                     0.145596    1.000000         0.468266   \n",
              "stockgrantvalue                0.089492    0.468266         1.000000   \n",
              "bonus                          0.108122    0.394352         0.248151   \n",
              "cityid                         0.002984   -0.118651        -0.072429   \n",
              "dmaid                          0.043946    0.425342         0.227608   \n",
              "rowNumber                     -0.012850    0.032603        -0.041226   \n",
              "Masters_Degree                 0.026109    0.084227         0.010720   \n",
              "Bachelors_Degree              -0.027487   -0.104111        -0.084676   \n",
              "Doctorate_Degree               0.001165    0.104320         0.080768   \n",
              "Highschool                    -0.005947   -0.008534        -0.008617   \n",
              "Some_College                   0.005718    0.006494        -0.001778   \n",
              "Race_Asian                    -0.025888   -0.053759        -0.040439   \n",
              "Race_White                     0.047267    0.020324        -0.020978   \n",
              "Race_Two_Or_More              -0.014926    0.002090        -0.006071   \n",
              "Race_Black                    -0.027812   -0.008836        -0.029244   \n",
              "Race_Hispanic                 -0.007511   -0.008976        -0.020412   \n",
              "\n",
              "                            bonus    cityid     dmaid  rowNumber  \\\n",
              "totalyearlycompensation  0.489454 -0.110204  0.376346  -0.092622   \n",
              "yearsofexperience        0.261051 -0.014100  0.030903  -0.002836   \n",
              "yearsatcompany           0.108122  0.002984  0.043946  -0.012850   \n",
              "basesalary               0.394352 -0.118651  0.425342   0.032603   \n",
              "stockgrantvalue          0.248151 -0.072429  0.227608  -0.041226   \n",
              "bonus                    1.000000 -0.036119  0.143506  -0.014753   \n",
              "cityid                  -0.036119  1.000000 -0.104870   0.041289   \n",
              "dmaid                    0.143506 -0.104870  1.000000  -0.202626   \n",
              "rowNumber               -0.014753  0.041289 -0.202626   1.000000   \n",
              "Masters_Degree           0.031538 -0.012902  0.003325   0.181295   \n",
              "Bachelors_Degree        -0.062881  0.053934 -0.159571   0.351730   \n",
              "Doctorate_Degree         0.071844 -0.018686  0.040339   0.029668   \n",
              "Highschool              -0.006916 -0.012253 -0.038118   0.052255   \n",
              "Some_College            -0.001873 -0.005339 -0.009232   0.050012   \n",
              "Race_Asian              -0.022997  0.056143 -0.093969   0.358515   \n",
              "Race_White              -0.007798 -0.019097 -0.087129   0.261340   \n",
              "Race_Two_Or_More         0.001773 -0.002999 -0.009182   0.076943   \n",
              "Race_Black              -0.004026  0.012547 -0.005076   0.068616   \n",
              "Race_Hispanic           -0.006983 -0.003174 -0.010163   0.086191   \n",
              "\n",
              "                         Masters_Degree  Bachelors_Degree  Doctorate_Degree  \\\n",
              "totalyearlycompensation        0.018320         -0.139866          0.097179   \n",
              "yearsofexperience              0.060310         -0.069468         -0.005380   \n",
              "yearsatcompany                 0.026109         -0.027487          0.001165   \n",
              "basesalary                     0.084227         -0.104111          0.104320   \n",
              "stockgrantvalue                0.010720         -0.084676          0.080768   \n",
              "bonus                          0.031538         -0.062881          0.071844   \n",
              "cityid                        -0.012902          0.053934         -0.018686   \n",
              "dmaid                          0.003325         -0.159571          0.040339   \n",
              "rowNumber                      0.181295          0.351730          0.029668   \n",
              "Masters_Degree                 1.000000         -0.286083         -0.076072   \n",
              "Bachelors_Degree              -0.286083          1.000000         -0.086404   \n",
              "Doctorate_Degree              -0.076072         -0.086404          1.000000   \n",
              "Highschool                    -0.040896         -0.035965         -0.012336   \n",
              "Some_College                  -0.043087         -0.037891         -0.012996   \n",
              "Race_Asian                     0.305903          0.249846          0.034015   \n",
              "Race_White                     0.036552          0.352620          0.040215   \n",
              "Race_Two_Or_More               0.011023          0.110800          0.000728   \n",
              "Race_Black                     0.014023          0.104210         -0.006276   \n",
              "Race_Hispanic                  0.002330          0.137807          0.006080   \n",
              "\n",
              "                         Highschool  Some_College  Race_Asian  Race_White  \\\n",
              "totalyearlycompensation   -0.014831     -0.003380   -0.080072   -0.027802   \n",
              "yearsofexperience          0.011605      0.037925   -0.052659    0.064712   \n",
              "yearsatcompany            -0.005947      0.005718   -0.025888    0.047267   \n",
              "basesalary                -0.008534      0.006494   -0.053759    0.020324   \n",
              "stockgrantvalue           -0.008617     -0.001778   -0.040439   -0.020978   \n",
              "bonus                     -0.006916     -0.001873   -0.022997   -0.007798   \n",
              "cityid                    -0.012253     -0.005339    0.056143   -0.019097   \n",
              "dmaid                     -0.038118     -0.009232   -0.093969   -0.087129   \n",
              "rowNumber                  0.052255      0.050012    0.358515    0.261340   \n",
              "Masters_Degree            -0.040896     -0.043087    0.305903    0.036552   \n",
              "Bachelors_Degree          -0.035965     -0.037891    0.249846    0.352620   \n",
              "Doctorate_Degree          -0.012336     -0.012996    0.034015    0.040215   \n",
              "Highschool                 1.000000     -0.005410   -0.015555    0.113839   \n",
              "Some_College              -0.005410      1.000000   -0.019441    0.122432   \n",
              "Race_Asian                -0.015555     -0.019441    1.000000   -0.184489   \n",
              "Race_White                 0.113839      0.122432   -0.184489    1.000000   \n",
              "Race_Two_Or_More           0.025649      0.034845   -0.054852   -0.043730   \n",
              "Race_Black                 0.013892      0.036858   -0.050768   -0.040474   \n",
              "Race_Hispanic              0.042445      0.029714   -0.064894   -0.051980   \n",
              "\n",
              "                         Race_Two_Or_More  Race_Black  Race_Hispanic  \n",
              "totalyearlycompensation         -0.009623   -0.026741      -0.026145  \n",
              "yearsofexperience               -0.013917   -0.022675      -0.002232  \n",
              "yearsatcompany                  -0.014926   -0.027812      -0.007511  \n",
              "basesalary                       0.002090   -0.008836      -0.008976  \n",
              "stockgrantvalue                 -0.006071   -0.029244      -0.020412  \n",
              "bonus                            0.001773   -0.004026      -0.006983  \n",
              "cityid                          -0.002999    0.012547      -0.003174  \n",
              "dmaid                           -0.009182   -0.005076      -0.010163  \n",
              "rowNumber                        0.076943    0.068616       0.086191  \n",
              "Masters_Degree                   0.011023    0.014023       0.002330  \n",
              "Bachelors_Degree                 0.110800    0.104210       0.137807  \n",
              "Doctorate_Degree                 0.000728   -0.006276       0.006080  \n",
              "Highschool                       0.025649    0.013892       0.042445  \n",
              "Some_College                     0.034845    0.036858       0.029714  \n",
              "Race_Asian                      -0.054852   -0.050768      -0.064894  \n",
              "Race_White                      -0.043730   -0.040474      -0.051980  \n",
              "Race_Two_Or_More                 1.000000   -0.012034      -0.015455  \n",
              "Race_Black                      -0.012034    1.000000      -0.014304  \n",
              "Race_Hispanic                   -0.015455   -0.014304       1.000000  "
            ],
            "text/html": [
              "\n",
              "  <div id=\"df-bcec17c1-2685-4f2e-b1b3-4c7f7819e536\">\n",
              "    <div class=\"colab-df-container\">\n",
              "      <div>\n",
              "<style scoped>\n",
              "    .dataframe tbody tr th:only-of-type {\n",
              "        vertical-align: middle;\n",
              "    }\n",
              "\n",
              "    .dataframe tbody tr th {\n",
              "        vertical-align: top;\n",
              "    }\n",
              "\n",
              "    .dataframe thead th {\n",
              "        text-align: right;\n",
              "    }\n",
              "</style>\n",
              "<table border=\"1\" class=\"dataframe\">\n",
              "  <thead>\n",
              "    <tr style=\"text-align: right;\">\n",
              "      <th></th>\n",
              "      <th>totalyearlycompensation</th>\n",
              "      <th>yearsofexperience</th>\n",
              "      <th>yearsatcompany</th>\n",
              "      <th>basesalary</th>\n",
              "      <th>stockgrantvalue</th>\n",
              "      <th>bonus</th>\n",
              "      <th>cityid</th>\n",
              "      <th>dmaid</th>\n",
              "      <th>rowNumber</th>\n",
              "      <th>Masters_Degree</th>\n",
              "      <th>Bachelors_Degree</th>\n",
              "      <th>Doctorate_Degree</th>\n",
              "      <th>Highschool</th>\n",
              "      <th>Some_College</th>\n",
              "      <th>Race_Asian</th>\n",
              "      <th>Race_White</th>\n",
              "      <th>Race_Two_Or_More</th>\n",
              "      <th>Race_Black</th>\n",
              "      <th>Race_Hispanic</th>\n",
              "    </tr>\n",
              "  </thead>\n",
              "  <tbody>\n",
              "    <tr>\n",
              "      <th>totalyearlycompensation</th>\n",
              "      <td>1.000000</td>\n",
              "      <td>0.422879</td>\n",
              "      <td>0.165802</td>\n",
              "      <td>0.672865</td>\n",
              "      <td>0.770756</td>\n",
              "      <td>0.489454</td>\n",
              "      <td>-0.110204</td>\n",
              "      <td>0.376346</td>\n",
              "      <td>-0.092622</td>\n",
              "      <td>0.018320</td>\n",
              "      <td>-0.139866</td>\n",
              "      <td>0.097179</td>\n",
              "      <td>-0.014831</td>\n",
              "      <td>-0.003380</td>\n",
              "      <td>-0.080072</td>\n",
              "      <td>-0.027802</td>\n",
              "      <td>-0.009623</td>\n",
              "      <td>-0.026741</td>\n",
              "      <td>-0.026145</td>\n",
              "    </tr>\n",
              "    <tr>\n",
              "      <th>yearsofexperience</th>\n",
              "      <td>0.422879</td>\n",
              "      <td>1.000000</td>\n",
              "      <td>0.522611</td>\n",
              "      <td>0.374437</td>\n",
              "      <td>0.289631</td>\n",
              "      <td>0.261051</td>\n",
              "      <td>-0.014100</td>\n",
              "      <td>0.030903</td>\n",
              "      <td>-0.002836</td>\n",
              "      <td>0.060310</td>\n",
              "      <td>-0.069468</td>\n",
              "      <td>-0.005380</td>\n",
              "      <td>0.011605</td>\n",
              "      <td>0.037925</td>\n",
              "      <td>-0.052659</td>\n",
              "      <td>0.064712</td>\n",
              "      <td>-0.013917</td>\n",
              "      <td>-0.022675</td>\n",
              "      <td>-0.002232</td>\n",
              "    </tr>\n",
              "    <tr>\n",
              "      <th>yearsatcompany</th>\n",
              "      <td>0.165802</td>\n",
              "      <td>0.522611</td>\n",
              "      <td>1.000000</td>\n",
              "      <td>0.145596</td>\n",
              "      <td>0.089492</td>\n",
              "      <td>0.108122</td>\n",
              "      <td>0.002984</td>\n",
              "      <td>0.043946</td>\n",
              "      <td>-0.012850</td>\n",
              "      <td>0.026109</td>\n",
              "      <td>-0.027487</td>\n",
              "      <td>0.001165</td>\n",
              "      <td>-0.005947</td>\n",
              "      <td>0.005718</td>\n",
              "      <td>-0.025888</td>\n",
              "      <td>0.047267</td>\n",
              "      <td>-0.014926</td>\n",
              "      <td>-0.027812</td>\n",
              "      <td>-0.007511</td>\n",
              "    </tr>\n",
              "    <tr>\n",
              "      <th>basesalary</th>\n",
              "      <td>0.672865</td>\n",
              "      <td>0.374437</td>\n",
              "      <td>0.145596</td>\n",
              "      <td>1.000000</td>\n",
              "      <td>0.468266</td>\n",
              "      <td>0.394352</td>\n",
              "      <td>-0.118651</td>\n",
              "      <td>0.425342</td>\n",
              "      <td>0.032603</td>\n",
              "      <td>0.084227</td>\n",
              "      <td>-0.104111</td>\n",
              "      <td>0.104320</td>\n",
              "      <td>-0.008534</td>\n",
              "      <td>0.006494</td>\n",
              "      <td>-0.053759</td>\n",
              "      <td>0.020324</td>\n",
              "      <td>0.002090</td>\n",
              "      <td>-0.008836</td>\n",
              "      <td>-0.008976</td>\n",
              "    </tr>\n",
              "    <tr>\n",
              "      <th>stockgrantvalue</th>\n",
              "      <td>0.770756</td>\n",
              "      <td>0.289631</td>\n",
              "      <td>0.089492</td>\n",
              "      <td>0.468266</td>\n",
              "      <td>1.000000</td>\n",
              "      <td>0.248151</td>\n",
              "      <td>-0.072429</td>\n",
              "      <td>0.227608</td>\n",
              "      <td>-0.041226</td>\n",
              "      <td>0.010720</td>\n",
              "      <td>-0.084676</td>\n",
              "      <td>0.080768</td>\n",
              "      <td>-0.008617</td>\n",
              "      <td>-0.001778</td>\n",
              "      <td>-0.040439</td>\n",
              "      <td>-0.020978</td>\n",
              "      <td>-0.006071</td>\n",
              "      <td>-0.029244</td>\n",
              "      <td>-0.020412</td>\n",
              "    </tr>\n",
              "    <tr>\n",
              "      <th>bonus</th>\n",
              "      <td>0.489454</td>\n",
              "      <td>0.261051</td>\n",
              "      <td>0.108122</td>\n",
              "      <td>0.394352</td>\n",
              "      <td>0.248151</td>\n",
              "      <td>1.000000</td>\n",
              "      <td>-0.036119</td>\n",
              "      <td>0.143506</td>\n",
              "      <td>-0.014753</td>\n",
              "      <td>0.031538</td>\n",
              "      <td>-0.062881</td>\n",
              "      <td>0.071844</td>\n",
              "      <td>-0.006916</td>\n",
              "      <td>-0.001873</td>\n",
              "      <td>-0.022997</td>\n",
              "      <td>-0.007798</td>\n",
              "      <td>0.001773</td>\n",
              "      <td>-0.004026</td>\n",
              "      <td>-0.006983</td>\n",
              "    </tr>\n",
              "    <tr>\n",
              "      <th>cityid</th>\n",
              "      <td>-0.110204</td>\n",
              "      <td>-0.014100</td>\n",
              "      <td>0.002984</td>\n",
              "      <td>-0.118651</td>\n",
              "      <td>-0.072429</td>\n",
              "      <td>-0.036119</td>\n",
              "      <td>1.000000</td>\n",
              "      <td>-0.104870</td>\n",
              "      <td>0.041289</td>\n",
              "      <td>-0.012902</td>\n",
              "      <td>0.053934</td>\n",
              "      <td>-0.018686</td>\n",
              "      <td>-0.012253</td>\n",
              "      <td>-0.005339</td>\n",
              "      <td>0.056143</td>\n",
              "      <td>-0.019097</td>\n",
              "      <td>-0.002999</td>\n",
              "      <td>0.012547</td>\n",
              "      <td>-0.003174</td>\n",
              "    </tr>\n",
              "    <tr>\n",
              "      <th>dmaid</th>\n",
              "      <td>0.376346</td>\n",
              "      <td>0.030903</td>\n",
              "      <td>0.043946</td>\n",
              "      <td>0.425342</td>\n",
              "      <td>0.227608</td>\n",
              "      <td>0.143506</td>\n",
              "      <td>-0.104870</td>\n",
              "      <td>1.000000</td>\n",
              "      <td>-0.202626</td>\n",
              "      <td>0.003325</td>\n",
              "      <td>-0.159571</td>\n",
              "      <td>0.040339</td>\n",
              "      <td>-0.038118</td>\n",
              "      <td>-0.009232</td>\n",
              "      <td>-0.093969</td>\n",
              "      <td>-0.087129</td>\n",
              "      <td>-0.009182</td>\n",
              "      <td>-0.005076</td>\n",
              "      <td>-0.010163</td>\n",
              "    </tr>\n",
              "    <tr>\n",
              "      <th>rowNumber</th>\n",
              "      <td>-0.092622</td>\n",
              "      <td>-0.002836</td>\n",
              "      <td>-0.012850</td>\n",
              "      <td>0.032603</td>\n",
              "      <td>-0.041226</td>\n",
              "      <td>-0.014753</td>\n",
              "      <td>0.041289</td>\n",
              "      <td>-0.202626</td>\n",
              "      <td>1.000000</td>\n",
              "      <td>0.181295</td>\n",
              "      <td>0.351730</td>\n",
              "      <td>0.029668</td>\n",
              "      <td>0.052255</td>\n",
              "      <td>0.050012</td>\n",
              "      <td>0.358515</td>\n",
              "      <td>0.261340</td>\n",
              "      <td>0.076943</td>\n",
              "      <td>0.068616</td>\n",
              "      <td>0.086191</td>\n",
              "    </tr>\n",
              "    <tr>\n",
              "      <th>Masters_Degree</th>\n",
              "      <td>0.018320</td>\n",
              "      <td>0.060310</td>\n",
              "      <td>0.026109</td>\n",
              "      <td>0.084227</td>\n",
              "      <td>0.010720</td>\n",
              "      <td>0.031538</td>\n",
              "      <td>-0.012902</td>\n",
              "      <td>0.003325</td>\n",
              "      <td>0.181295</td>\n",
              "      <td>1.000000</td>\n",
              "      <td>-0.286083</td>\n",
              "      <td>-0.076072</td>\n",
              "      <td>-0.040896</td>\n",
              "      <td>-0.043087</td>\n",
              "      <td>0.305903</td>\n",
              "      <td>0.036552</td>\n",
              "      <td>0.011023</td>\n",
              "      <td>0.014023</td>\n",
              "      <td>0.002330</td>\n",
              "    </tr>\n",
              "    <tr>\n",
              "      <th>Bachelors_Degree</th>\n",
              "      <td>-0.139866</td>\n",
              "      <td>-0.069468</td>\n",
              "      <td>-0.027487</td>\n",
              "      <td>-0.104111</td>\n",
              "      <td>-0.084676</td>\n",
              "      <td>-0.062881</td>\n",
              "      <td>0.053934</td>\n",
              "      <td>-0.159571</td>\n",
              "      <td>0.351730</td>\n",
              "      <td>-0.286083</td>\n",
              "      <td>1.000000</td>\n",
              "      <td>-0.086404</td>\n",
              "      <td>-0.035965</td>\n",
              "      <td>-0.037891</td>\n",
              "      <td>0.249846</td>\n",
              "      <td>0.352620</td>\n",
              "      <td>0.110800</td>\n",
              "      <td>0.104210</td>\n",
              "      <td>0.137807</td>\n",
              "    </tr>\n",
              "    <tr>\n",
              "      <th>Doctorate_Degree</th>\n",
              "      <td>0.097179</td>\n",
              "      <td>-0.005380</td>\n",
              "      <td>0.001165</td>\n",
              "      <td>0.104320</td>\n",
              "      <td>0.080768</td>\n",
              "      <td>0.071844</td>\n",
              "      <td>-0.018686</td>\n",
              "      <td>0.040339</td>\n",
              "      <td>0.029668</td>\n",
              "      <td>-0.076072</td>\n",
              "      <td>-0.086404</td>\n",
              "      <td>1.000000</td>\n",
              "      <td>-0.012336</td>\n",
              "      <td>-0.012996</td>\n",
              "      <td>0.034015</td>\n",
              "      <td>0.040215</td>\n",
              "      <td>0.000728</td>\n",
              "      <td>-0.006276</td>\n",
              "      <td>0.006080</td>\n",
              "    </tr>\n",
              "    <tr>\n",
              "      <th>Highschool</th>\n",
              "      <td>-0.014831</td>\n",
              "      <td>0.011605</td>\n",
              "      <td>-0.005947</td>\n",
              "      <td>-0.008534</td>\n",
              "      <td>-0.008617</td>\n",
              "      <td>-0.006916</td>\n",
              "      <td>-0.012253</td>\n",
              "      <td>-0.038118</td>\n",
              "      <td>0.052255</td>\n",
              "      <td>-0.040896</td>\n",
              "      <td>-0.035965</td>\n",
              "      <td>-0.012336</td>\n",
              "      <td>1.000000</td>\n",
              "      <td>-0.005410</td>\n",
              "      <td>-0.015555</td>\n",
              "      <td>0.113839</td>\n",
              "      <td>0.025649</td>\n",
              "      <td>0.013892</td>\n",
              "      <td>0.042445</td>\n",
              "    </tr>\n",
              "    <tr>\n",
              "      <th>Some_College</th>\n",
              "      <td>-0.003380</td>\n",
              "      <td>0.037925</td>\n",
              "      <td>0.005718</td>\n",
              "      <td>0.006494</td>\n",
              "      <td>-0.001778</td>\n",
              "      <td>-0.001873</td>\n",
              "      <td>-0.005339</td>\n",
              "      <td>-0.009232</td>\n",
              "      <td>0.050012</td>\n",
              "      <td>-0.043087</td>\n",
              "      <td>-0.037891</td>\n",
              "      <td>-0.012996</td>\n",
              "      <td>-0.005410</td>\n",
              "      <td>1.000000</td>\n",
              "      <td>-0.019441</td>\n",
              "      <td>0.122432</td>\n",
              "      <td>0.034845</td>\n",
              "      <td>0.036858</td>\n",
              "      <td>0.029714</td>\n",
              "    </tr>\n",
              "    <tr>\n",
              "      <th>Race_Asian</th>\n",
              "      <td>-0.080072</td>\n",
              "      <td>-0.052659</td>\n",
              "      <td>-0.025888</td>\n",
              "      <td>-0.053759</td>\n",
              "      <td>-0.040439</td>\n",
              "      <td>-0.022997</td>\n",
              "      <td>0.056143</td>\n",
              "      <td>-0.093969</td>\n",
              "      <td>0.358515</td>\n",
              "      <td>0.305903</td>\n",
              "      <td>0.249846</td>\n",
              "      <td>0.034015</td>\n",
              "      <td>-0.015555</td>\n",
              "      <td>-0.019441</td>\n",
              "      <td>1.000000</td>\n",
              "      <td>-0.184489</td>\n",
              "      <td>-0.054852</td>\n",
              "      <td>-0.050768</td>\n",
              "      <td>-0.064894</td>\n",
              "    </tr>\n",
              "    <tr>\n",
              "      <th>Race_White</th>\n",
              "      <td>-0.027802</td>\n",
              "      <td>0.064712</td>\n",
              "      <td>0.047267</td>\n",
              "      <td>0.020324</td>\n",
              "      <td>-0.020978</td>\n",
              "      <td>-0.007798</td>\n",
              "      <td>-0.019097</td>\n",
              "      <td>-0.087129</td>\n",
              "      <td>0.261340</td>\n",
              "      <td>0.036552</td>\n",
              "      <td>0.352620</td>\n",
              "      <td>0.040215</td>\n",
              "      <td>0.113839</td>\n",
              "      <td>0.122432</td>\n",
              "      <td>-0.184489</td>\n",
              "      <td>1.000000</td>\n",
              "      <td>-0.043730</td>\n",
              "      <td>-0.040474</td>\n",
              "      <td>-0.051980</td>\n",
              "    </tr>\n",
              "    <tr>\n",
              "      <th>Race_Two_Or_More</th>\n",
              "      <td>-0.009623</td>\n",
              "      <td>-0.013917</td>\n",
              "      <td>-0.014926</td>\n",
              "      <td>0.002090</td>\n",
              "      <td>-0.006071</td>\n",
              "      <td>0.001773</td>\n",
              "      <td>-0.002999</td>\n",
              "      <td>-0.009182</td>\n",
              "      <td>0.076943</td>\n",
              "      <td>0.011023</td>\n",
              "      <td>0.110800</td>\n",
              "      <td>0.000728</td>\n",
              "      <td>0.025649</td>\n",
              "      <td>0.034845</td>\n",
              "      <td>-0.054852</td>\n",
              "      <td>-0.043730</td>\n",
              "      <td>1.000000</td>\n",
              "      <td>-0.012034</td>\n",
              "      <td>-0.015455</td>\n",
              "    </tr>\n",
              "    <tr>\n",
              "      <th>Race_Black</th>\n",
              "      <td>-0.026741</td>\n",
              "      <td>-0.022675</td>\n",
              "      <td>-0.027812</td>\n",
              "      <td>-0.008836</td>\n",
              "      <td>-0.029244</td>\n",
              "      <td>-0.004026</td>\n",
              "      <td>0.012547</td>\n",
              "      <td>-0.005076</td>\n",
              "      <td>0.068616</td>\n",
              "      <td>0.014023</td>\n",
              "      <td>0.104210</td>\n",
              "      <td>-0.006276</td>\n",
              "      <td>0.013892</td>\n",
              "      <td>0.036858</td>\n",
              "      <td>-0.050768</td>\n",
              "      <td>-0.040474</td>\n",
              "      <td>-0.012034</td>\n",
              "      <td>1.000000</td>\n",
              "      <td>-0.014304</td>\n",
              "    </tr>\n",
              "    <tr>\n",
              "      <th>Race_Hispanic</th>\n",
              "      <td>-0.026145</td>\n",
              "      <td>-0.002232</td>\n",
              "      <td>-0.007511</td>\n",
              "      <td>-0.008976</td>\n",
              "      <td>-0.020412</td>\n",
              "      <td>-0.006983</td>\n",
              "      <td>-0.003174</td>\n",
              "      <td>-0.010163</td>\n",
              "      <td>0.086191</td>\n",
              "      <td>0.002330</td>\n",
              "      <td>0.137807</td>\n",
              "      <td>0.006080</td>\n",
              "      <td>0.042445</td>\n",
              "      <td>0.029714</td>\n",
              "      <td>-0.064894</td>\n",
              "      <td>-0.051980</td>\n",
              "      <td>-0.015455</td>\n",
              "      <td>-0.014304</td>\n",
              "      <td>1.000000</td>\n",
              "    </tr>\n",
              "  </tbody>\n",
              "</table>\n",
              "</div>\n",
              "      <button class=\"colab-df-convert\" onclick=\"convertToInteractive('df-bcec17c1-2685-4f2e-b1b3-4c7f7819e536')\"\n",
              "              title=\"Convert this dataframe to an interactive table.\"\n",
              "              style=\"display:none;\">\n",
              "        \n",
              "  <svg xmlns=\"http://www.w3.org/2000/svg\" height=\"24px\"viewBox=\"0 0 24 24\"\n",
              "       width=\"24px\">\n",
              "    <path d=\"M0 0h24v24H0V0z\" fill=\"none\"/>\n",
              "    <path d=\"M18.56 5.44l.94 2.06.94-2.06 2.06-.94-2.06-.94-.94-2.06-.94 2.06-2.06.94zm-11 1L8.5 8.5l.94-2.06 2.06-.94-2.06-.94L8.5 2.5l-.94 2.06-2.06.94zm10 10l.94 2.06.94-2.06 2.06-.94-2.06-.94-.94-2.06-.94 2.06-2.06.94z\"/><path d=\"M17.41 7.96l-1.37-1.37c-.4-.4-.92-.59-1.43-.59-.52 0-1.04.2-1.43.59L10.3 9.45l-7.72 7.72c-.78.78-.78 2.05 0 2.83L4 21.41c.39.39.9.59 1.41.59.51 0 1.02-.2 1.41-.59l7.78-7.78 2.81-2.81c.8-.78.8-2.07 0-2.86zM5.41 20L4 18.59l7.72-7.72 1.47 1.35L5.41 20z\"/>\n",
              "  </svg>\n",
              "      </button>\n",
              "      \n",
              "  <style>\n",
              "    .colab-df-container {\n",
              "      display:flex;\n",
              "      flex-wrap:wrap;\n",
              "      gap: 12px;\n",
              "    }\n",
              "\n",
              "    .colab-df-convert {\n",
              "      background-color: #E8F0FE;\n",
              "      border: none;\n",
              "      border-radius: 50%;\n",
              "      cursor: pointer;\n",
              "      display: none;\n",
              "      fill: #1967D2;\n",
              "      height: 32px;\n",
              "      padding: 0 0 0 0;\n",
              "      width: 32px;\n",
              "    }\n",
              "\n",
              "    .colab-df-convert:hover {\n",
              "      background-color: #E2EBFA;\n",
              "      box-shadow: 0px 1px 2px rgba(60, 64, 67, 0.3), 0px 1px 3px 1px rgba(60, 64, 67, 0.15);\n",
              "      fill: #174EA6;\n",
              "    }\n",
              "\n",
              "    [theme=dark] .colab-df-convert {\n",
              "      background-color: #3B4455;\n",
              "      fill: #D2E3FC;\n",
              "    }\n",
              "\n",
              "    [theme=dark] .colab-df-convert:hover {\n",
              "      background-color: #434B5C;\n",
              "      box-shadow: 0px 1px 3px 1px rgba(0, 0, 0, 0.15);\n",
              "      filter: drop-shadow(0px 1px 2px rgba(0, 0, 0, 0.3));\n",
              "      fill: #FFFFFF;\n",
              "    }\n",
              "  </style>\n",
              "\n",
              "      <script>\n",
              "        const buttonEl =\n",
              "          document.querySelector('#df-bcec17c1-2685-4f2e-b1b3-4c7f7819e536 button.colab-df-convert');\n",
              "        buttonEl.style.display =\n",
              "          google.colab.kernel.accessAllowed ? 'block' : 'none';\n",
              "\n",
              "        async function convertToInteractive(key) {\n",
              "          const element = document.querySelector('#df-bcec17c1-2685-4f2e-b1b3-4c7f7819e536');\n",
              "          const dataTable =\n",
              "            await google.colab.kernel.invokeFunction('convertToInteractive',\n",
              "                                                     [key], {});\n",
              "          if (!dataTable) return;\n",
              "\n",
              "          const docLinkHtml = 'Like what you see? Visit the ' +\n",
              "            '<a target=\"_blank\" href=https://colab.research.google.com/notebooks/data_table.ipynb>data table notebook</a>'\n",
              "            + ' to learn more about interactive tables.';\n",
              "          element.innerHTML = '';\n",
              "          dataTable['output_type'] = 'display_data';\n",
              "          await google.colab.output.renderOutput(dataTable, element);\n",
              "          const docLink = document.createElement('div');\n",
              "          docLink.innerHTML = docLinkHtml;\n",
              "          element.appendChild(docLink);\n",
              "        }\n",
              "      </script>\n",
              "    </div>\n",
              "  </div>\n",
              "  "
            ]
          },
          "metadata": {},
          "execution_count": 52
        }
      ]
    },
    {
      "cell_type": "code",
      "source": [
        "df_salario_teste.shape"
      ],
      "metadata": {
        "colab": {
          "base_uri": "https://localhost:8080/"
        },
        "id": "1yMPIzKPhiw4",
        "outputId": "ee17d555-5029-44e0-ae6c-6ed1b6973c13"
      },
      "execution_count": null,
      "outputs": [
        {
          "output_type": "execute_result",
          "data": {
            "text/plain": [
              "(62642, 29)"
            ]
          },
          "metadata": {},
          "execution_count": 53
        }
      ]
    },
    {
      "cell_type": "markdown",
      "source": [
        "Após ponderações entre os menbros do grupo decidimos dropar as seguintes tabelas\n",
        "\n",
        "Drops:\n",
        "\n",
        "- timestamp\n",
        "- rownumber\n",
        "- Masters_Degree\n",
        "- Bachelors_Degree\n",
        "- Doctorate_Degree\n",
        "- Highschool\n",
        "- Some_College\n",
        "- Race_Asian\n",
        "- Race_White\n",
        "- Race_Two_Or_More\n",
        "- Race_Black \n",
        "- Race_Hispanic\n",
        "- otherdetails\n",
        "- level\n",
        "- tag "
      ],
      "metadata": {
        "id": "rv2zwW5LT_tz"
      }
    },
    {
      "cell_type": "markdown",
      "source": [
        "feito o drop de todas as tabelas em questão"
      ],
      "metadata": {
        "id": "zPjSBxpUZC4I"
      }
    },
    {
      "cell_type": "code",
      "source": [
        "# Drops de colunas\n",
        "df_salario_teste.drop(['timestamp', 'rowNumber','Masters_Degree','Bachelors_Degree','Doctorate_Degree','Highschool','Some_College','Race_Asian','Race_White','Race_Two_Or_More','Race_Black','Race_Hispanic','otherdetails','level','tag'], axis=1, inplace = True)"
      ],
      "metadata": {
        "id": "SYQVQgRfUVp8"
      },
      "execution_count": null,
      "outputs": []
    },
    {
      "cell_type": "markdown",
      "source": [
        "Houve colunas que apesar de termos muitos valores nulos queriamos em nossa amostra para fazermos comparativos e verificações dessa forma resolvemos tratar os valores nulos substituindo pelo valor \"Não Informado\", houve tambem um caso onde o title acabou passando para a coluna gender fizemos a correção\n",
        "\n",
        "Correção valores nulos:\n",
        "\n",
        "- gender\n",
        "- Race\n",
        "- Education"
      ],
      "metadata": {
        "id": "N0beZGqdV3vJ"
      }
    },
    {
      "cell_type": "code",
      "source": [
        "# Correção de valores nulos\n",
        "df_salario_teste['gender'].fillna('Não informado', inplace = True)\n",
        "df_salario_teste['Race'].fillna('Não informado', inplace = True)\n",
        "df_salario_teste['Education'].fillna('Não informado', inplace = True)\n",
        "df_salario_teste['company'].fillna('Não informado', inplace = True)\n",
        "# Replace na coluna gender\n",
        "df_salario_teste['gender'].replace('Title: Senior Software Engineer','Não informado', inplace = True)"
      ],
      "metadata": {
        "id": "PFJJ3zkEWDMh"
      },
      "execution_count": null,
      "outputs": []
    },
    {
      "cell_type": "markdown",
      "source": [
        "Houve a necessidade de dividirmos a coluna locations em mais de uma para que tivessemos cidade, estado, pais.\n",
        "\n",
        "Após muita ponderação sobre a questão dos valores 0 decidimos substituir pela media, mediana ou moda porem existiam os outliers que poderiam trazer uma ideia erroneas dos dados, dessa forma decidimos fazer esses calculos somente com os valores que não eram outliers \n",
        "\n",
        "correções especificas:\n",
        "- location: Fazer split da coluna em 3, depois dropar as sobresalentes "
      ],
      "metadata": {
        "id": "sA08jifXX5Pr"
      }
    },
    {
      "cell_type": "code",
      "source": [
        "#Com o split, forma criados 4 colunas. São 4 colunas por que um dos valores esta como \"Korea, South\"\n",
        "df_salario_teste[['Col1','Col2', 'Col3' , 'Col4']] = df_salario_teste['location'].str.split(r',', expand = True)\n"
      ],
      "metadata": {
        "id": "P2kcKrfsNrZ0"
      },
      "execution_count": null,
      "outputs": []
    },
    {
      "cell_type": "markdown",
      "source": [
        "# caiu"
      ],
      "metadata": {
        "id": "gB5fLShfT9Sx"
      }
    },
    {
      "cell_type": "markdown",
      "source": [
        "\n",
        "- totalyearlycompensation: substituir os '0' pela média ou mediana ou moda dos valores sem outliers"
      ],
      "metadata": {
        "id": "nKsJ3DRzeBlr"
      }
    },
    {
      "cell_type": "code",
      "source": [
        "def calcula_out(X):\n",
        "\n",
        "\n",
        "  q1,q3 = np.quantile(X,[0.25,0.75])\n",
        "  iqr =  q3 - q1\n",
        "  is_outliers = ((X<(q1-1.5*iqr)) | (X>(q3+1.5*iqr)))\n",
        "  not_outliers = ((X>(q1-1.5*iqr)) & (X<(q3+1.5*iqr)))\n",
        "  outliers_count  = np.count_nonzero(is_outliers)\n",
        "\n",
        "  return is_outliers,outliers_count, X[is_outliers], X[not_outliers]\n",
        "\n",
        "\n",
        "is_outlier, outliers_count, outliers, not_outliers = calcula_out(df_salario_teste['totalyearlycompensation'])\n",
        "print(outliers_count)\n",
        "print(outliers.count())"
      ],
      "metadata": {
        "colab": {
          "base_uri": "https://localhost:8080/"
        },
        "id": "yOHVIdlrX8oa",
        "outputId": "67d818f1-5497-4fb8-e01d-58a36c0bcec2"
      },
      "execution_count": null,
      "outputs": [
        {
          "output_type": "stream",
          "name": "stdout",
          "text": [
            "3133\n",
            "3133\n"
          ]
        }
      ]
    },
    {
      "cell_type": "code",
      "source": [
        "media_totalyearlycompensation = not_outliers.mean()\n",
        "print(media_totalyearlycompensation)"
      ],
      "metadata": {
        "colab": {
          "base_uri": "https://localhost:8080/"
        },
        "id": "cfKJv8VjYz-m",
        "outputId": "5f813e1a-d738-4e71-8855-726041d38278"
      },
      "execution_count": null,
      "outputs": [
        {
          "output_type": "stream",
          "name": "stdout",
          "text": [
            "195320.57345947673\n"
          ]
        }
      ]
    },
    {
      "cell_type": "markdown",
      "source": [
        "- basesalary: substituir os '0' pela média ou mediana ou moda dos valores sem outliers"
      ],
      "metadata": {
        "id": "eEPnZsbQd_aq"
      }
    },
    {
      "cell_type": "code",
      "source": [
        "def calcula_out(X):\n",
        "\n",
        "\n",
        "  q1,q3 = np.quantile(X,[0.25,0.75])\n",
        "  iqr =  q3 - q1\n",
        "  is_outliers = ((X<(q1-1.5*iqr)) | (X>(q3+1.5*iqr)))\n",
        "  not_outliers = ((X>(q1-1.5*iqr)) & (X<(q3+1.5*iqr)))\n",
        "  outliers_count  = np.count_nonzero(is_outliers)\n",
        "\n",
        "  return is_outliers,outliers_count, X[is_outliers], X[not_outliers]\n",
        "\n",
        "\n",
        "is_outlier, outliers_count, outliers, not_outliers = calcula_out(df_salario_teste['basesalary'])\n",
        "print(outliers_count)\n",
        "print(outliers.count())"
      ],
      "metadata": {
        "colab": {
          "base_uri": "https://localhost:8080/"
        },
        "id": "N9lB4DhJc7sJ",
        "outputId": "d2f37857-d29c-4996-ac1c-56574e825199"
      },
      "execution_count": null,
      "outputs": [
        {
          "output_type": "stream",
          "name": "stdout",
          "text": [
            "3509\n",
            "3509\n"
          ]
        }
      ]
    },
    {
      "cell_type": "code",
      "source": [
        "media_basesalary = not_outliers.mean()\n",
        "print(media_basesalary)"
      ],
      "metadata": {
        "colab": {
          "base_uri": "https://localhost:8080/"
        },
        "id": "8rtIkL6kYpfY",
        "outputId": "a3036f30-72a2-4a09-c856-1d154d930697"
      },
      "execution_count": null,
      "outputs": [
        {
          "output_type": "stream",
          "name": "stdout",
          "text": [
            "139077.5540414727\n"
          ]
        }
      ]
    },
    {
      "cell_type": "code",
      "source": [
        "# Trocar valores 0 pela média sem os outliers\n",
        "df_salario_teste['totalyearlycompensation'].replace(0,media_totalyearlycompensation, inplace = True)\n",
        "df_salario_teste['basesalary'].replace(0,media_basesalary, inplace = True)"
      ],
      "metadata": {
        "id": "e530PhAVgtJu"
      },
      "execution_count": null,
      "outputs": []
    },
    {
      "cell_type": "code",
      "source": [
        "df_salario_teste['basesalary'].replace(0,media_basesalary, inplace = True)"
      ],
      "metadata": {
        "id": "M5HUmGqqhJaj"
      },
      "execution_count": null,
      "outputs": []
    },
    {
      "cell_type": "code",
      "source": [
        "df_salario_teste.to_csv('Levels_Fyi_Salary_Data_tratado.csv' , index = False)"
      ],
      "metadata": {
        "id": "Vg6Qq4PxhWRg"
      },
      "execution_count": null,
      "outputs": []
    },
    {
      "cell_type": "code",
      "source": [
        "df_salario_teste.dtypes"
      ],
      "metadata": {
        "colab": {
          "base_uri": "https://localhost:8080/"
        },
        "id": "oe1Mz5AeVliU",
        "outputId": "84194622-5d30-4849-eed3-43de4fa3b5d9"
      },
      "execution_count": null,
      "outputs": [
        {
          "output_type": "execute_result",
          "data": {
            "text/plain": [
              "company                     object\n",
              "title                       object\n",
              "totalyearlycompensation      int64\n",
              "location                    object\n",
              "yearsofexperience          float64\n",
              "yearsatcompany             float64\n",
              "basesalary                 float64\n",
              "stockgrantvalue            float64\n",
              "bonus                      float64\n",
              "gender                      object\n",
              "cityid                       int64\n",
              "dmaid                      float64\n",
              "Race                        object\n",
              "Education                   object\n",
              "Col1                        object\n",
              "Col2                        object\n",
              "Col3                        object\n",
              "Col4                        object\n",
              "dtype: object"
            ]
          },
          "metadata": {},
          "execution_count": 64
        }
      ]
    },
    {
      "cell_type": "code",
      "source": [
        "df_salario_teste.isnull().sum()"
      ],
      "metadata": {
        "id": "mM78V6xci24H"
      },
      "execution_count": null,
      "outputs": []
    },
    {
      "cell_type": "code",
      "source": [
        "df_salario_teste['location'].unique()"
      ],
      "metadata": {
        "colab": {
          "base_uri": "https://localhost:8080/"
        },
        "id": "N5dGOVrn0SMl",
        "outputId": "c39d3aa7-f144-4e1f-b0d1-0cd05668a5bb"
      },
      "execution_count": null,
      "outputs": [
        {
          "output_type": "execute_result",
          "data": {
            "text/plain": [
              "array(['Redwood City, CA', 'San Francisco, CA', 'Seattle, WA', ...,\n",
              "       'Pasir Ris, SG, Singapore', 'Richmond, VA, United States',\n",
              "       'Hilbert, WI'], dtype=object)"
            ]
          },
          "metadata": {},
          "execution_count": 80
        }
      ]
    },
    {
      "cell_type": "code",
      "source": [
        "df_salario_teste['location'].unique().sum()"
      ],
      "metadata": {
        "id": "VBFGVd2JyDuz"
      },
      "execution_count": null,
      "outputs": []
    },
    {
      "cell_type": "code",
      "source": [
        "df_salario_teste['Col3'].replace(' Korea','South Korea', inplace = True)"
      ],
      "metadata": {
        "id": "FNkiXqz5ehrA"
      },
      "execution_count": null,
      "outputs": []
    },
    {
      "cell_type": "code",
      "source": [
        "df_salario_teste.drop(['Col4'], axis=1, inplace = True)"
      ],
      "metadata": {
        "id": "F-ATH1aElWtV"
      },
      "execution_count": null,
      "outputs": []
    },
    {
      "cell_type": "code",
      "source": [
        "df_salario_teste['Col3'].fillna('United States', inplace = True)"
      ],
      "metadata": {
        "id": "LZ71m4kjlsrj"
      },
      "execution_count": null,
      "outputs": []
    },
    {
      "cell_type": "code",
      "source": [
        "df_salario_teste.rename(columns ={\"company\": \"compania\",\n",
        "                          \"title\": \"profissao\",\n",
        "                          \"totalyearlycompensation\":\"ganhoAnual\",\n",
        "                          \"yearsatcompany\":\"temponaEmpresa\",\n",
        "                          \"yearsofexperience\":\"anosExperiencia\",\n",
        "                          \"basesalary\":\"salarioBase\",\n",
        "                          \"stockgrantvalue\":\"SGV\",\n",
        "                          \"gender\":\"genero\",\n",
        "                          \"Race\":\"raca\",\n",
        "                          \"Education\":\"educacao\",\n",
        "                          \"Col1\":\"cidade\",\n",
        "                          \"Col2\":\"estado\",\n",
        "                          \"Col3\":\"pais\",},\n",
        "                inplace=True )"
      ],
      "metadata": {
        "id": "3nZ9pUaYQxWN"
      },
      "execution_count": null,
      "outputs": []
    },
    {
      "cell_type": "markdown",
      "source": [
        "Verificação dos dados após tratamento"
      ],
      "metadata": {
        "id": "TlXi0Ggxj_Zk"
      }
    },
    {
      "cell_type": "code",
      "source": [
        "df_salario_teste.head()"
      ],
      "metadata": {
        "id": "5sg1PEF83-ed",
        "colab": {
          "base_uri": "https://localhost:8080/",
          "height": 171
        },
        "outputId": "0c2cae09-ed5f-41b9-fd8a-8035d9afb938"
      },
      "execution_count": null,
      "outputs": [
        {
          "output_type": "error",
          "ename": "NameError",
          "evalue": "ignored",
          "traceback": [
            "\u001b[0;31m---------------------------------------------------------------------------\u001b[0m",
            "\u001b[0;31mNameError\u001b[0m                                 Traceback (most recent call last)",
            "\u001b[0;32m<ipython-input-1-ca3c57f14a5b>\u001b[0m in \u001b[0;36m<module>\u001b[0;34m\u001b[0m\n\u001b[0;32m----> 1\u001b[0;31m \u001b[0mdf_salario_teste\u001b[0m\u001b[0;34m.\u001b[0m\u001b[0mhead\u001b[0m\u001b[0;34m(\u001b[0m\u001b[0;34m)\u001b[0m\u001b[0;34m\u001b[0m\u001b[0;34m\u001b[0m\u001b[0m\n\u001b[0m",
            "\u001b[0;31mNameError\u001b[0m: name 'df_salario_teste' is not defined"
          ]
        }
      ]
    },
    {
      "cell_type": "code",
      "source": [
        "df_salario_teste.isna().sum()"
      ],
      "metadata": {
        "id": "6dVMto8zjy6y"
      },
      "execution_count": null,
      "outputs": []
    },
    {
      "cell_type": "code",
      "source": [
        "df_salario_teste.groupby(['Pais'])['salarioBase'].mean().sort_values(ascending = False)"
      ],
      "metadata": {
        "id": "_zc2_Yw44aJk"
      },
      "execution_count": null,
      "outputs": []
    },
    {
      "cell_type": "code",
      "source": [
        "df_salario_teste.drop(['location'], axis=1, inplace=True)"
      ],
      "metadata": {
        "id": "fD2XrThMSK9K"
      },
      "execution_count": null,
      "outputs": []
    },
    {
      "cell_type": "code",
      "source": [
        "df_salario_teste['compania'] = df_salario_teste['compania'].str.upper()"
      ],
      "metadata": {
        "id": "Wv5vP_GnSWju"
      },
      "execution_count": null,
      "outputs": []
    },
    {
      "cell_type": "code",
      "source": [
        "df_salario_teste.to_csv('Base_normalizada_Leves_Fyi_Salary.csv', index= False)"
      ],
      "metadata": {
        "id": "Y5M2qOF30DBk"
      },
      "execution_count": null,
      "outputs": []
    },
    {
      "cell_type": "markdown",
      "source": [
        "# Etapa de Manipulação e Plotagem David"
      ],
      "metadata": {
        "id": "3q1R1c8Sk3jH"
      }
    },
    {
      "cell_type": "markdown",
      "source": [
        "Após normalizada Base, foi criado um novo dataFrame somente com o objetivo de manipulação e plotagem dos dados"
      ],
      "metadata": {
        "id": "EqdYwVvnzDyW"
      }
    },
    {
      "cell_type": "code",
      "source": [
        "import pandas as pd\n",
        "\n",
        "df_novo = pd.read_csv('/content/Base_normalizada_Leves_Fyi_Salary.csv')\n",
        "df_novo.head()"
      ],
      "metadata": {
        "colab": {
          "base_uri": "https://localhost:8080/",
          "height": 206
        },
        "id": "82RwhGL9jJBn",
        "outputId": "d607bd06-140b-416d-d7fb-487fe022db3b"
      },
      "execution_count": null,
      "outputs": [
        {
          "output_type": "execute_result",
          "data": {
            "text/plain": [
              "    compania                     profissao  ganhoAnual  anosExperiencia  \\\n",
              "0     ORACLE               Product Manager      127000              1.5   \n",
              "1       EBAY             Software Engineer      100000              5.0   \n",
              "2     AMAZON               Product Manager      310000              8.0   \n",
              "3      APPLE  Software Engineering Manager      372000              7.0   \n",
              "4  MICROSOFT             Software Engineer      157000              5.0   \n",
              "\n",
              "   temponaEmpresa    salarioBase       SGV    bonus         genero  cityid  \\\n",
              "0             1.5  107000.000000   20000.0  10000.0  Não informado    7392   \n",
              "1             3.0  139077.554041       0.0      0.0  Não informado    7419   \n",
              "2             0.0  155000.000000       0.0      0.0  Não informado   11527   \n",
              "3             5.0  157000.000000  180000.0  35000.0  Não informado    7472   \n",
              "4             3.0  139077.554041       0.0      0.0  Não informado    7322   \n",
              "\n",
              "   dmaid           raca       Educacao         cidade estado           Pais  \n",
              "0  807.0  Não informado  Não informado   Redwood City     CA  United States  \n",
              "1  807.0  Não informado  Não informado  San Francisco     CA  United States  \n",
              "2  819.0  Não informado  Não informado        Seattle     WA  United States  \n",
              "3  807.0  Não informado  Não informado      Sunnyvale     CA  United States  \n",
              "4  807.0  Não informado  Não informado  Mountain View     CA  United States  "
            ],
            "text/html": [
              "\n",
              "  <div id=\"df-5b3d746e-c67d-45a7-b465-e3f7fa3621f9\">\n",
              "    <div class=\"colab-df-container\">\n",
              "      <div>\n",
              "<style scoped>\n",
              "    .dataframe tbody tr th:only-of-type {\n",
              "        vertical-align: middle;\n",
              "    }\n",
              "\n",
              "    .dataframe tbody tr th {\n",
              "        vertical-align: top;\n",
              "    }\n",
              "\n",
              "    .dataframe thead th {\n",
              "        text-align: right;\n",
              "    }\n",
              "</style>\n",
              "<table border=\"1\" class=\"dataframe\">\n",
              "  <thead>\n",
              "    <tr style=\"text-align: right;\">\n",
              "      <th></th>\n",
              "      <th>compania</th>\n",
              "      <th>profissao</th>\n",
              "      <th>ganhoAnual</th>\n",
              "      <th>anosExperiencia</th>\n",
              "      <th>temponaEmpresa</th>\n",
              "      <th>salarioBase</th>\n",
              "      <th>SGV</th>\n",
              "      <th>bonus</th>\n",
              "      <th>genero</th>\n",
              "      <th>cityid</th>\n",
              "      <th>dmaid</th>\n",
              "      <th>raca</th>\n",
              "      <th>Educacao</th>\n",
              "      <th>cidade</th>\n",
              "      <th>estado</th>\n",
              "      <th>Pais</th>\n",
              "    </tr>\n",
              "  </thead>\n",
              "  <tbody>\n",
              "    <tr>\n",
              "      <th>0</th>\n",
              "      <td>ORACLE</td>\n",
              "      <td>Product Manager</td>\n",
              "      <td>127000</td>\n",
              "      <td>1.5</td>\n",
              "      <td>1.5</td>\n",
              "      <td>107000.000000</td>\n",
              "      <td>20000.0</td>\n",
              "      <td>10000.0</td>\n",
              "      <td>Não informado</td>\n",
              "      <td>7392</td>\n",
              "      <td>807.0</td>\n",
              "      <td>Não informado</td>\n",
              "      <td>Não informado</td>\n",
              "      <td>Redwood City</td>\n",
              "      <td>CA</td>\n",
              "      <td>United States</td>\n",
              "    </tr>\n",
              "    <tr>\n",
              "      <th>1</th>\n",
              "      <td>EBAY</td>\n",
              "      <td>Software Engineer</td>\n",
              "      <td>100000</td>\n",
              "      <td>5.0</td>\n",
              "      <td>3.0</td>\n",
              "      <td>139077.554041</td>\n",
              "      <td>0.0</td>\n",
              "      <td>0.0</td>\n",
              "      <td>Não informado</td>\n",
              "      <td>7419</td>\n",
              "      <td>807.0</td>\n",
              "      <td>Não informado</td>\n",
              "      <td>Não informado</td>\n",
              "      <td>San Francisco</td>\n",
              "      <td>CA</td>\n",
              "      <td>United States</td>\n",
              "    </tr>\n",
              "    <tr>\n",
              "      <th>2</th>\n",
              "      <td>AMAZON</td>\n",
              "      <td>Product Manager</td>\n",
              "      <td>310000</td>\n",
              "      <td>8.0</td>\n",
              "      <td>0.0</td>\n",
              "      <td>155000.000000</td>\n",
              "      <td>0.0</td>\n",
              "      <td>0.0</td>\n",
              "      <td>Não informado</td>\n",
              "      <td>11527</td>\n",
              "      <td>819.0</td>\n",
              "      <td>Não informado</td>\n",
              "      <td>Não informado</td>\n",
              "      <td>Seattle</td>\n",
              "      <td>WA</td>\n",
              "      <td>United States</td>\n",
              "    </tr>\n",
              "    <tr>\n",
              "      <th>3</th>\n",
              "      <td>APPLE</td>\n",
              "      <td>Software Engineering Manager</td>\n",
              "      <td>372000</td>\n",
              "      <td>7.0</td>\n",
              "      <td>5.0</td>\n",
              "      <td>157000.000000</td>\n",
              "      <td>180000.0</td>\n",
              "      <td>35000.0</td>\n",
              "      <td>Não informado</td>\n",
              "      <td>7472</td>\n",
              "      <td>807.0</td>\n",
              "      <td>Não informado</td>\n",
              "      <td>Não informado</td>\n",
              "      <td>Sunnyvale</td>\n",
              "      <td>CA</td>\n",
              "      <td>United States</td>\n",
              "    </tr>\n",
              "    <tr>\n",
              "      <th>4</th>\n",
              "      <td>MICROSOFT</td>\n",
              "      <td>Software Engineer</td>\n",
              "      <td>157000</td>\n",
              "      <td>5.0</td>\n",
              "      <td>3.0</td>\n",
              "      <td>139077.554041</td>\n",
              "      <td>0.0</td>\n",
              "      <td>0.0</td>\n",
              "      <td>Não informado</td>\n",
              "      <td>7322</td>\n",
              "      <td>807.0</td>\n",
              "      <td>Não informado</td>\n",
              "      <td>Não informado</td>\n",
              "      <td>Mountain View</td>\n",
              "      <td>CA</td>\n",
              "      <td>United States</td>\n",
              "    </tr>\n",
              "  </tbody>\n",
              "</table>\n",
              "</div>\n",
              "      <button class=\"colab-df-convert\" onclick=\"convertToInteractive('df-5b3d746e-c67d-45a7-b465-e3f7fa3621f9')\"\n",
              "              title=\"Convert this dataframe to an interactive table.\"\n",
              "              style=\"display:none;\">\n",
              "        \n",
              "  <svg xmlns=\"http://www.w3.org/2000/svg\" height=\"24px\"viewBox=\"0 0 24 24\"\n",
              "       width=\"24px\">\n",
              "    <path d=\"M0 0h24v24H0V0z\" fill=\"none\"/>\n",
              "    <path d=\"M18.56 5.44l.94 2.06.94-2.06 2.06-.94-2.06-.94-.94-2.06-.94 2.06-2.06.94zm-11 1L8.5 8.5l.94-2.06 2.06-.94-2.06-.94L8.5 2.5l-.94 2.06-2.06.94zm10 10l.94 2.06.94-2.06 2.06-.94-2.06-.94-.94-2.06-.94 2.06-2.06.94z\"/><path d=\"M17.41 7.96l-1.37-1.37c-.4-.4-.92-.59-1.43-.59-.52 0-1.04.2-1.43.59L10.3 9.45l-7.72 7.72c-.78.78-.78 2.05 0 2.83L4 21.41c.39.39.9.59 1.41.59.51 0 1.02-.2 1.41-.59l7.78-7.78 2.81-2.81c.8-.78.8-2.07 0-2.86zM5.41 20L4 18.59l7.72-7.72 1.47 1.35L5.41 20z\"/>\n",
              "  </svg>\n",
              "      </button>\n",
              "      \n",
              "  <style>\n",
              "    .colab-df-container {\n",
              "      display:flex;\n",
              "      flex-wrap:wrap;\n",
              "      gap: 12px;\n",
              "    }\n",
              "\n",
              "    .colab-df-convert {\n",
              "      background-color: #E8F0FE;\n",
              "      border: none;\n",
              "      border-radius: 50%;\n",
              "      cursor: pointer;\n",
              "      display: none;\n",
              "      fill: #1967D2;\n",
              "      height: 32px;\n",
              "      padding: 0 0 0 0;\n",
              "      width: 32px;\n",
              "    }\n",
              "\n",
              "    .colab-df-convert:hover {\n",
              "      background-color: #E2EBFA;\n",
              "      box-shadow: 0px 1px 2px rgba(60, 64, 67, 0.3), 0px 1px 3px 1px rgba(60, 64, 67, 0.15);\n",
              "      fill: #174EA6;\n",
              "    }\n",
              "\n",
              "    [theme=dark] .colab-df-convert {\n",
              "      background-color: #3B4455;\n",
              "      fill: #D2E3FC;\n",
              "    }\n",
              "\n",
              "    [theme=dark] .colab-df-convert:hover {\n",
              "      background-color: #434B5C;\n",
              "      box-shadow: 0px 1px 3px 1px rgba(0, 0, 0, 0.15);\n",
              "      filter: drop-shadow(0px 1px 2px rgba(0, 0, 0, 0.3));\n",
              "      fill: #FFFFFF;\n",
              "    }\n",
              "  </style>\n",
              "\n",
              "      <script>\n",
              "        const buttonEl =\n",
              "          document.querySelector('#df-5b3d746e-c67d-45a7-b465-e3f7fa3621f9 button.colab-df-convert');\n",
              "        buttonEl.style.display =\n",
              "          google.colab.kernel.accessAllowed ? 'block' : 'none';\n",
              "\n",
              "        async function convertToInteractive(key) {\n",
              "          const element = document.querySelector('#df-5b3d746e-c67d-45a7-b465-e3f7fa3621f9');\n",
              "          const dataTable =\n",
              "            await google.colab.kernel.invokeFunction('convertToInteractive',\n",
              "                                                     [key], {});\n",
              "          if (!dataTable) return;\n",
              "\n",
              "          const docLinkHtml = 'Like what you see? Visit the ' +\n",
              "            '<a target=\"_blank\" href=https://colab.research.google.com/notebooks/data_table.ipynb>data table notebook</a>'\n",
              "            + ' to learn more about interactive tables.';\n",
              "          element.innerHTML = '';\n",
              "          dataTable['output_type'] = 'display_data';\n",
              "          await google.colab.output.renderOutput(dataTable, element);\n",
              "          const docLink = document.createElement('div');\n",
              "          docLink.innerHTML = docLinkHtml;\n",
              "          element.appendChild(docLink);\n",
              "        }\n",
              "      </script>\n",
              "    </div>\n",
              "  </div>\n",
              "  "
            ]
          },
          "metadata": {},
          "execution_count": 122
        }
      ]
    },
    {
      "cell_type": "markdown",
      "source": [
        "Nova Matrix de Correlação Feita, para verificarmos quais colunas e tabela se correlacionam da melhor forma."
      ],
      "metadata": {
        "id": "jzxprLE5z84r"
      }
    },
    {
      "cell_type": "code",
      "source": [
        "df_novo.corr()"
      ],
      "metadata": {
        "id": "6EX-ggPik5Y5",
        "colab": {
          "base_uri": "https://localhost:8080/",
          "height": 300
        },
        "outputId": "7f369ad7-8a45-4e9f-8ed5-807af13b3011"
      },
      "execution_count": null,
      "outputs": [
        {
          "output_type": "execute_result",
          "data": {
            "text/plain": [
              "                 ganhoAnual  anosExperiencia  yearsatcompany  salarioBase  \\\n",
              "ganhoAnual         1.000000         0.422879        0.165802     0.757436   \n",
              "anosExperiencia    0.422879         1.000000        0.522611     0.422867   \n",
              "yearsatcompany     0.165802         0.522611        1.000000     0.178412   \n",
              "salarioBase        0.757436         0.422867        0.178412     1.000000   \n",
              "SGV                0.770756         0.289631        0.089492     0.461966   \n",
              "bonus              0.489454         0.261051        0.108122     0.371305   \n",
              "cityid            -0.110204        -0.014100        0.002984    -0.137968   \n",
              "dmaid              0.376346         0.030903        0.043946     0.491377   \n",
              "\n",
              "                      SGV     bonus    cityid     dmaid  \n",
              "ganhoAnual       0.770756  0.489454 -0.110204  0.376346  \n",
              "anosExperiencia  0.289631  0.261051 -0.014100  0.030903  \n",
              "yearsatcompany   0.089492  0.108122  0.002984  0.043946  \n",
              "salarioBase      0.461966  0.371305 -0.137968  0.491377  \n",
              "SGV              1.000000  0.248151 -0.072429  0.227608  \n",
              "bonus            0.248151  1.000000 -0.036119  0.143506  \n",
              "cityid          -0.072429 -0.036119  1.000000 -0.104870  \n",
              "dmaid            0.227608  0.143506 -0.104870  1.000000  "
            ],
            "text/html": [
              "\n",
              "  <div id=\"df-0c68b64c-9373-4ad7-97ff-9118952ab466\">\n",
              "    <div class=\"colab-df-container\">\n",
              "      <div>\n",
              "<style scoped>\n",
              "    .dataframe tbody tr th:only-of-type {\n",
              "        vertical-align: middle;\n",
              "    }\n",
              "\n",
              "    .dataframe tbody tr th {\n",
              "        vertical-align: top;\n",
              "    }\n",
              "\n",
              "    .dataframe thead th {\n",
              "        text-align: right;\n",
              "    }\n",
              "</style>\n",
              "<table border=\"1\" class=\"dataframe\">\n",
              "  <thead>\n",
              "    <tr style=\"text-align: right;\">\n",
              "      <th></th>\n",
              "      <th>ganhoAnual</th>\n",
              "      <th>anosExperiencia</th>\n",
              "      <th>yearsatcompany</th>\n",
              "      <th>salarioBase</th>\n",
              "      <th>SGV</th>\n",
              "      <th>bonus</th>\n",
              "      <th>cityid</th>\n",
              "      <th>dmaid</th>\n",
              "    </tr>\n",
              "  </thead>\n",
              "  <tbody>\n",
              "    <tr>\n",
              "      <th>ganhoAnual</th>\n",
              "      <td>1.000000</td>\n",
              "      <td>0.422879</td>\n",
              "      <td>0.165802</td>\n",
              "      <td>0.757436</td>\n",
              "      <td>0.770756</td>\n",
              "      <td>0.489454</td>\n",
              "      <td>-0.110204</td>\n",
              "      <td>0.376346</td>\n",
              "    </tr>\n",
              "    <tr>\n",
              "      <th>anosExperiencia</th>\n",
              "      <td>0.422879</td>\n",
              "      <td>1.000000</td>\n",
              "      <td>0.522611</td>\n",
              "      <td>0.422867</td>\n",
              "      <td>0.289631</td>\n",
              "      <td>0.261051</td>\n",
              "      <td>-0.014100</td>\n",
              "      <td>0.030903</td>\n",
              "    </tr>\n",
              "    <tr>\n",
              "      <th>yearsatcompany</th>\n",
              "      <td>0.165802</td>\n",
              "      <td>0.522611</td>\n",
              "      <td>1.000000</td>\n",
              "      <td>0.178412</td>\n",
              "      <td>0.089492</td>\n",
              "      <td>0.108122</td>\n",
              "      <td>0.002984</td>\n",
              "      <td>0.043946</td>\n",
              "    </tr>\n",
              "    <tr>\n",
              "      <th>salarioBase</th>\n",
              "      <td>0.757436</td>\n",
              "      <td>0.422867</td>\n",
              "      <td>0.178412</td>\n",
              "      <td>1.000000</td>\n",
              "      <td>0.461966</td>\n",
              "      <td>0.371305</td>\n",
              "      <td>-0.137968</td>\n",
              "      <td>0.491377</td>\n",
              "    </tr>\n",
              "    <tr>\n",
              "      <th>SGV</th>\n",
              "      <td>0.770756</td>\n",
              "      <td>0.289631</td>\n",
              "      <td>0.089492</td>\n",
              "      <td>0.461966</td>\n",
              "      <td>1.000000</td>\n",
              "      <td>0.248151</td>\n",
              "      <td>-0.072429</td>\n",
              "      <td>0.227608</td>\n",
              "    </tr>\n",
              "    <tr>\n",
              "      <th>bonus</th>\n",
              "      <td>0.489454</td>\n",
              "      <td>0.261051</td>\n",
              "      <td>0.108122</td>\n",
              "      <td>0.371305</td>\n",
              "      <td>0.248151</td>\n",
              "      <td>1.000000</td>\n",
              "      <td>-0.036119</td>\n",
              "      <td>0.143506</td>\n",
              "    </tr>\n",
              "    <tr>\n",
              "      <th>cityid</th>\n",
              "      <td>-0.110204</td>\n",
              "      <td>-0.014100</td>\n",
              "      <td>0.002984</td>\n",
              "      <td>-0.137968</td>\n",
              "      <td>-0.072429</td>\n",
              "      <td>-0.036119</td>\n",
              "      <td>1.000000</td>\n",
              "      <td>-0.104870</td>\n",
              "    </tr>\n",
              "    <tr>\n",
              "      <th>dmaid</th>\n",
              "      <td>0.376346</td>\n",
              "      <td>0.030903</td>\n",
              "      <td>0.043946</td>\n",
              "      <td>0.491377</td>\n",
              "      <td>0.227608</td>\n",
              "      <td>0.143506</td>\n",
              "      <td>-0.104870</td>\n",
              "      <td>1.000000</td>\n",
              "    </tr>\n",
              "  </tbody>\n",
              "</table>\n",
              "</div>\n",
              "      <button class=\"colab-df-convert\" onclick=\"convertToInteractive('df-0c68b64c-9373-4ad7-97ff-9118952ab466')\"\n",
              "              title=\"Convert this dataframe to an interactive table.\"\n",
              "              style=\"display:none;\">\n",
              "        \n",
              "  <svg xmlns=\"http://www.w3.org/2000/svg\" height=\"24px\"viewBox=\"0 0 24 24\"\n",
              "       width=\"24px\">\n",
              "    <path d=\"M0 0h24v24H0V0z\" fill=\"none\"/>\n",
              "    <path d=\"M18.56 5.44l.94 2.06.94-2.06 2.06-.94-2.06-.94-.94-2.06-.94 2.06-2.06.94zm-11 1L8.5 8.5l.94-2.06 2.06-.94-2.06-.94L8.5 2.5l-.94 2.06-2.06.94zm10 10l.94 2.06.94-2.06 2.06-.94-2.06-.94-.94-2.06-.94 2.06-2.06.94z\"/><path d=\"M17.41 7.96l-1.37-1.37c-.4-.4-.92-.59-1.43-.59-.52 0-1.04.2-1.43.59L10.3 9.45l-7.72 7.72c-.78.78-.78 2.05 0 2.83L4 21.41c.39.39.9.59 1.41.59.51 0 1.02-.2 1.41-.59l7.78-7.78 2.81-2.81c.8-.78.8-2.07 0-2.86zM5.41 20L4 18.59l7.72-7.72 1.47 1.35L5.41 20z\"/>\n",
              "  </svg>\n",
              "      </button>\n",
              "      \n",
              "  <style>\n",
              "    .colab-df-container {\n",
              "      display:flex;\n",
              "      flex-wrap:wrap;\n",
              "      gap: 12px;\n",
              "    }\n",
              "\n",
              "    .colab-df-convert {\n",
              "      background-color: #E8F0FE;\n",
              "      border: none;\n",
              "      border-radius: 50%;\n",
              "      cursor: pointer;\n",
              "      display: none;\n",
              "      fill: #1967D2;\n",
              "      height: 32px;\n",
              "      padding: 0 0 0 0;\n",
              "      width: 32px;\n",
              "    }\n",
              "\n",
              "    .colab-df-convert:hover {\n",
              "      background-color: #E2EBFA;\n",
              "      box-shadow: 0px 1px 2px rgba(60, 64, 67, 0.3), 0px 1px 3px 1px rgba(60, 64, 67, 0.15);\n",
              "      fill: #174EA6;\n",
              "    }\n",
              "\n",
              "    [theme=dark] .colab-df-convert {\n",
              "      background-color: #3B4455;\n",
              "      fill: #D2E3FC;\n",
              "    }\n",
              "\n",
              "    [theme=dark] .colab-df-convert:hover {\n",
              "      background-color: #434B5C;\n",
              "      box-shadow: 0px 1px 3px 1px rgba(0, 0, 0, 0.15);\n",
              "      filter: drop-shadow(0px 1px 2px rgba(0, 0, 0, 0.3));\n",
              "      fill: #FFFFFF;\n",
              "    }\n",
              "  </style>\n",
              "\n",
              "      <script>\n",
              "        const buttonEl =\n",
              "          document.querySelector('#df-0c68b64c-9373-4ad7-97ff-9118952ab466 button.colab-df-convert');\n",
              "        buttonEl.style.display =\n",
              "          google.colab.kernel.accessAllowed ? 'block' : 'none';\n",
              "\n",
              "        async function convertToInteractive(key) {\n",
              "          const element = document.querySelector('#df-0c68b64c-9373-4ad7-97ff-9118952ab466');\n",
              "          const dataTable =\n",
              "            await google.colab.kernel.invokeFunction('convertToInteractive',\n",
              "                                                     [key], {});\n",
              "          if (!dataTable) return;\n",
              "\n",
              "          const docLinkHtml = 'Like what you see? Visit the ' +\n",
              "            '<a target=\"_blank\" href=https://colab.research.google.com/notebooks/data_table.ipynb>data table notebook</a>'\n",
              "            + ' to learn more about interactive tables.';\n",
              "          element.innerHTML = '';\n",
              "          dataTable['output_type'] = 'display_data';\n",
              "          await google.colab.output.renderOutput(dataTable, element);\n",
              "          const docLink = document.createElement('div');\n",
              "          docLink.innerHTML = docLinkHtml;\n",
              "          element.appendChild(docLink);\n",
              "        }\n",
              "      </script>\n",
              "    </div>\n",
              "  </div>\n",
              "  "
            ]
          },
          "metadata": {},
          "execution_count": 105
        }
      ]
    },
    {
      "cell_type": "markdown",
      "source": [
        "Definido em uma variavel as calunas tempo na empresa e salarioBase para verificarmos qual o compartamento, se quanto mais tempo na empresa maior seriam os salarios, para tal verificação utilizamos a media "
      ],
      "metadata": {
        "id": "62P7GN2b1MH9"
      }
    },
    {
      "cell_type": "code",
      "source": [
        "dg = df_novo.groupby(\"temponaEmpresa\")['salarioBase'].mean()"
      ],
      "metadata": {
        "id": "AbyYqI6FjYLv"
      },
      "execution_count": null,
      "outputs": []
    },
    {
      "cell_type": "code",
      "source": [
        "dg.plot()"
      ],
      "metadata": {
        "id": "noH2ONJbjYJN",
        "colab": {
          "base_uri": "https://localhost:8080/",
          "height": 297
        },
        "outputId": "ba5d25c8-d299-449a-86cf-ae4f8face446"
      },
      "execution_count": null,
      "outputs": [
        {
          "output_type": "execute_result",
          "data": {
            "text/plain": [
              "<matplotlib.axes._subplots.AxesSubplot at 0x7fe5f6edc640>"
            ]
          },
          "metadata": {},
          "execution_count": 124
        },
        {
          "output_type": "display_data",
          "data": {
            "text/plain": [
              "<Figure size 432x288 with 1 Axes>"
            ],
            "image/png": "[encoded data removed]"
          },
          "metadata": {
            "needs_background": "light"
          }
        }
      ]
    },
    {
      "cell_type": "markdown",
      "source": [
        "Podemos verificar que profissionais com ate 10 anos de empresa, acabam tendo muita variação de salario principalmente ao ingressar na empresa, apos 10 anos temos uma \"normalização\" e um pico entre os 20 a 30 anos.\n",
        "\n",
        "Isso se da muito provavelmente pela area em questão pois a area de tecnologia é uma area muito volatil onde trabalhadores acabam traocando de empresa de uma forma muito rapida"
      ],
      "metadata": {
        "id": "x5PGqYtG2EBA"
      }
    },
    {
      "cell_type": "markdown",
      "source": [
        "Filtro feito para pegarmos somente as linhas que foram realmente informadas pelo usario na coluna raca"
      ],
      "metadata": {
        "id": "ema7KetQ2jgT"
      }
    },
    {
      "cell_type": "code",
      "source": [
        "dfiltrado_race = df_novo.loc[df_novo['raca'] != 'Não informado']\n",
        "dfiltrado_race.head()"
      ],
      "metadata": {
        "id": "qVRHnLBljYHM",
        "colab": {
          "base_uri": "https://localhost:8080/",
          "height": 206
        },
        "outputId": "2566b9b3-3c24-4d92-a516-a76fd265127d"
      },
      "execution_count": null,
      "outputs": [
        {
          "output_type": "execute_result",
          "data": {
            "text/plain": [
              "       compania                     profissao  ganhoAnual  anosExperiencia  \\\n",
              "6921   FACEBOOK              Product Designer      310000              7.0   \n",
              "8366      INTEL             Hardware Engineer      200000             14.0   \n",
              "10937   COMCAST             Software Engineer      103000              2.0   \n",
              "11997     LATCH  Software Engineering Manager      170000              6.0   \n",
              "14429    INTUIT             Software Engineer      134000              1.0   \n",
              "\n",
              "       temponaEmpresa  salarioBase       SGV    bonus  genero  cityid  dmaid  \\\n",
              "6921              2.0     165000.0  120000.0  25000.0  Female    7300  807.0   \n",
              "8366              3.0     163000.0   10000.0  27000.0  Female    7434  807.0   \n",
              "10937             1.0      96000.0    2000.0   5000.0    Male   10646  504.0   \n",
              "11997             2.0     170000.0       0.0      0.0    Male   10182  501.0   \n",
              "14429             1.0     110000.0   13000.0  11000.0    Male    7322  807.0   \n",
              "\n",
              "        raca       Educacao         cidade estado           Pais  \n",
              "6921   White  Não informado     Menlo Park     CA  United States  \n",
              "8366   Asian  Não informado    Santa Clara     CA  United States  \n",
              "10937  Black  Não informado   Philadelphia     PA  United States  \n",
              "11997  Asian  Não informado       New York     NY  United States  \n",
              "14429  Asian  Não informado  Mountain View     CA  United States  "
            ],
            "text/html": [
              "\n",
              "  <div id=\"df-8b7ac161-4112-40f1-9189-4212c8888401\">\n",
              "    <div class=\"colab-df-container\">\n",
              "      <div>\n",
              "<style scoped>\n",
              "    .dataframe tbody tr th:only-of-type {\n",
              "        vertical-align: middle;\n",
              "    }\n",
              "\n",
              "    .dataframe tbody tr th {\n",
              "        vertical-align: top;\n",
              "    }\n",
              "\n",
              "    .dataframe thead th {\n",
              "        text-align: right;\n",
              "    }\n",
              "</style>\n",
              "<table border=\"1\" class=\"dataframe\">\n",
              "  <thead>\n",
              "    <tr style=\"text-align: right;\">\n",
              "      <th></th>\n",
              "      <th>compania</th>\n",
              "      <th>profissao</th>\n",
              "      <th>ganhoAnual</th>\n",
              "      <th>anosExperiencia</th>\n",
              "      <th>temponaEmpresa</th>\n",
              "      <th>salarioBase</th>\n",
              "      <th>SGV</th>\n",
              "      <th>bonus</th>\n",
              "      <th>genero</th>\n",
              "      <th>cityid</th>\n",
              "      <th>dmaid</th>\n",
              "      <th>raca</th>\n",
              "      <th>Educacao</th>\n",
              "      <th>cidade</th>\n",
              "      <th>estado</th>\n",
              "      <th>Pais</th>\n",
              "    </tr>\n",
              "  </thead>\n",
              "  <tbody>\n",
              "    <tr>\n",
              "      <th>6921</th>\n",
              "      <td>FACEBOOK</td>\n",
              "      <td>Product Designer</td>\n",
              "      <td>310000</td>\n",
              "      <td>7.0</td>\n",
              "      <td>2.0</td>\n",
              "      <td>165000.0</td>\n",
              "      <td>120000.0</td>\n",
              "      <td>25000.0</td>\n",
              "      <td>Female</td>\n",
              "      <td>7300</td>\n",
              "      <td>807.0</td>\n",
              "      <td>White</td>\n",
              "      <td>Não informado</td>\n",
              "      <td>Menlo Park</td>\n",
              "      <td>CA</td>\n",
              "      <td>United States</td>\n",
              "    </tr>\n",
              "    <tr>\n",
              "      <th>8366</th>\n",
              "      <td>INTEL</td>\n",
              "      <td>Hardware Engineer</td>\n",
              "      <td>200000</td>\n",
              "      <td>14.0</td>\n",
              "      <td>3.0</td>\n",
              "      <td>163000.0</td>\n",
              "      <td>10000.0</td>\n",
              "      <td>27000.0</td>\n",
              "      <td>Female</td>\n",
              "      <td>7434</td>\n",
              "      <td>807.0</td>\n",
              "      <td>Asian</td>\n",
              "      <td>Não informado</td>\n",
              "      <td>Santa Clara</td>\n",
              "      <td>CA</td>\n",
              "      <td>United States</td>\n",
              "    </tr>\n",
              "    <tr>\n",
              "      <th>10937</th>\n",
              "      <td>COMCAST</td>\n",
              "      <td>Software Engineer</td>\n",
              "      <td>103000</td>\n",
              "      <td>2.0</td>\n",
              "      <td>1.0</td>\n",
              "      <td>96000.0</td>\n",
              "      <td>2000.0</td>\n",
              "      <td>5000.0</td>\n",
              "      <td>Male</td>\n",
              "      <td>10646</td>\n",
              "      <td>504.0</td>\n",
              "      <td>Black</td>\n",
              "      <td>Não informado</td>\n",
              "      <td>Philadelphia</td>\n",
              "      <td>PA</td>\n",
              "      <td>United States</td>\n",
              "    </tr>\n",
              "    <tr>\n",
              "      <th>11997</th>\n",
              "      <td>LATCH</td>\n",
              "      <td>Software Engineering Manager</td>\n",
              "      <td>170000</td>\n",
              "      <td>6.0</td>\n",
              "      <td>2.0</td>\n",
              "      <td>170000.0</td>\n",
              "      <td>0.0</td>\n",
              "      <td>0.0</td>\n",
              "      <td>Male</td>\n",
              "      <td>10182</td>\n",
              "      <td>501.0</td>\n",
              "      <td>Asian</td>\n",
              "      <td>Não informado</td>\n",
              "      <td>New York</td>\n",
              "      <td>NY</td>\n",
              "      <td>United States</td>\n",
              "    </tr>\n",
              "    <tr>\n",
              "      <th>14429</th>\n",
              "      <td>INTUIT</td>\n",
              "      <td>Software Engineer</td>\n",
              "      <td>134000</td>\n",
              "      <td>1.0</td>\n",
              "      <td>1.0</td>\n",
              "      <td>110000.0</td>\n",
              "      <td>13000.0</td>\n",
              "      <td>11000.0</td>\n",
              "      <td>Male</td>\n",
              "      <td>7322</td>\n",
              "      <td>807.0</td>\n",
              "      <td>Asian</td>\n",
              "      <td>Não informado</td>\n",
              "      <td>Mountain View</td>\n",
              "      <td>CA</td>\n",
              "      <td>United States</td>\n",
              "    </tr>\n",
              "  </tbody>\n",
              "</table>\n",
              "</div>\n",
              "      <button class=\"colab-df-convert\" onclick=\"convertToInteractive('df-8b7ac161-4112-40f1-9189-4212c8888401')\"\n",
              "              title=\"Convert this dataframe to an interactive table.\"\n",
              "              style=\"display:none;\">\n",
              "        \n",
              "  <svg xmlns=\"http://www.w3.org/2000/svg\" height=\"24px\"viewBox=\"0 0 24 24\"\n",
              "       width=\"24px\">\n",
              "    <path d=\"M0 0h24v24H0V0z\" fill=\"none\"/>\n",
              "    <path d=\"M18.56 5.44l.94 2.06.94-2.06 2.06-.94-2.06-.94-.94-2.06-.94 2.06-2.06.94zm-11 1L8.5 8.5l.94-2.06 2.06-.94-2.06-.94L8.5 2.5l-.94 2.06-2.06.94zm10 10l.94 2.06.94-2.06 2.06-.94-2.06-.94-.94-2.06-.94 2.06-2.06.94z\"/><path d=\"M17.41 7.96l-1.37-1.37c-.4-.4-.92-.59-1.43-.59-.52 0-1.04.2-1.43.59L10.3 9.45l-7.72 7.72c-.78.78-.78 2.05 0 2.83L4 21.41c.39.39.9.59 1.41.59.51 0 1.02-.2 1.41-.59l7.78-7.78 2.81-2.81c.8-.78.8-2.07 0-2.86zM5.41 20L4 18.59l7.72-7.72 1.47 1.35L5.41 20z\"/>\n",
              "  </svg>\n",
              "      </button>\n",
              "      \n",
              "  <style>\n",
              "    .colab-df-container {\n",
              "      display:flex;\n",
              "      flex-wrap:wrap;\n",
              "      gap: 12px;\n",
              "    }\n",
              "\n",
              "    .colab-df-convert {\n",
              "      background-color: #E8F0FE;\n",
              "      border: none;\n",
              "      border-radius: 50%;\n",
              "      cursor: pointer;\n",
              "      display: none;\n",
              "      fill: #1967D2;\n",
              "      height: 32px;\n",
              "      padding: 0 0 0 0;\n",
              "      width: 32px;\n",
              "    }\n",
              "\n",
              "    .colab-df-convert:hover {\n",
              "      background-color: #E2EBFA;\n",
              "      box-shadow: 0px 1px 2px rgba(60, 64, 67, 0.3), 0px 1px 3px 1px rgba(60, 64, 67, 0.15);\n",
              "      fill: #174EA6;\n",
              "    }\n",
              "\n",
              "    [theme=dark] .colab-df-convert {\n",
              "      background-color: #3B4455;\n",
              "      fill: #D2E3FC;\n",
              "    }\n",
              "\n",
              "    [theme=dark] .colab-df-convert:hover {\n",
              "      background-color: #434B5C;\n",
              "      box-shadow: 0px 1px 3px 1px rgba(0, 0, 0, 0.15);\n",
              "      filter: drop-shadow(0px 1px 2px rgba(0, 0, 0, 0.3));\n",
              "      fill: #FFFFFF;\n",
              "    }\n",
              "  </style>\n",
              "\n",
              "      <script>\n",
              "        const buttonEl =\n",
              "          document.querySelector('#df-8b7ac161-4112-40f1-9189-4212c8888401 button.colab-df-convert');\n",
              "        buttonEl.style.display =\n",
              "          google.colab.kernel.accessAllowed ? 'block' : 'none';\n",
              "\n",
              "        async function convertToInteractive(key) {\n",
              "          const element = document.querySelector('#df-8b7ac161-4112-40f1-9189-4212c8888401');\n",
              "          const dataTable =\n",
              "            await google.colab.kernel.invokeFunction('convertToInteractive',\n",
              "                                                     [key], {});\n",
              "          if (!dataTable) return;\n",
              "\n",
              "          const docLinkHtml = 'Like what you see? Visit the ' +\n",
              "            '<a target=\"_blank\" href=https://colab.research.google.com/notebooks/data_table.ipynb>data table notebook</a>'\n",
              "            + ' to learn more about interactive tables.';\n",
              "          element.innerHTML = '';\n",
              "          dataTable['output_type'] = 'display_data';\n",
              "          await google.colab.output.renderOutput(dataTable, element);\n",
              "          const docLink = document.createElement('div');\n",
              "          docLink.innerHTML = docLinkHtml;\n",
              "          element.appendChild(docLink);\n",
              "        }\n",
              "      </script>\n",
              "    </div>\n",
              "  </div>\n",
              "  "
            ]
          },
          "metadata": {},
          "execution_count": 127
        }
      ]
    },
    {
      "cell_type": "code",
      "source": [
        "#Os dados de basesalary por raça tem 66% de dados faltantes\n",
        "df_novo.groupby([\"raca\"])['salarioBase'].mean()"
      ],
      "metadata": {
        "id": "puTx2_njjYEy",
        "colab": {
          "base_uri": "https://localhost:8080/"
        },
        "outputId": "7d78585b-1f05-425c-8eef-f5802cc90d09"
      },
      "execution_count": null,
      "outputs": [
        {
          "output_type": "execute_result",
          "data": {
            "text/plain": [
              "raca\n",
              "Asian            129829.170914\n",
              "Black            131549.275362\n",
              "Hispanic         132629.760850\n",
              "Não informado    146192.897166\n",
              "Two Or More      137812.189055\n",
              "White            139939.492032\n",
              "Name: salarioBase, dtype: float64"
            ]
          },
          "metadata": {},
          "execution_count": 128
        }
      ]
    },
    {
      "cell_type": "markdown",
      "source": [
        "Plotagem feita com todos os dados inclusive os dados NA, para verificarmos o comportamento da amostra"
      ],
      "metadata": {
        "id": "azbYSAxR3H1U"
      }
    },
    {
      "cell_type": "code",
      "source": [
        "df_novo.groupby([\"raca\"])['salarioBase'].mean().sort_values(ascending = False).plot(kind = \"barh\")"
      ],
      "metadata": {
        "colab": {
          "base_uri": "https://localhost:8080/",
          "height": 283
        },
        "id": "kuF6jruK2seE",
        "outputId": "d38062ae-aae9-426e-8e76-dc4c99fbe20d"
      },
      "execution_count": null,
      "outputs": [
        {
          "output_type": "execute_result",
          "data": {
            "text/plain": [
              "<matplotlib.axes._subplots.AxesSubplot at 0x7fe5f9d0e490>"
            ]
          },
          "metadata": {},
          "execution_count": 193
        },
        {
          "output_type": "display_data",
          "data": {
            "text/plain": [
              "<Figure size 432x288 with 1 Axes>"
            ],
            "image/png": "[encoded data removed]"
          },
          "metadata": {
            "needs_background": "light"
          }
        }
      ]
    },
    {
      "cell_type": "code",
      "source": [
        "dfiltrado_race.groupby([\"raca\"])['salarioBase'].mean()"
      ],
      "metadata": {
        "id": "ngrTrq0hjYCs",
        "colab": {
          "base_uri": "https://localhost:8080/"
        },
        "outputId": "e19bd75e-74d6-4702-e336-2c946fd20785"
      },
      "execution_count": null,
      "outputs": [
        {
          "output_type": "execute_result",
          "data": {
            "text/plain": [
              "raca\n",
              "Asian          129829.170914\n",
              "Black          131549.275362\n",
              "Hispanic       132629.760850\n",
              "Two Or More    137812.189055\n",
              "White          139939.492032\n",
              "Name: salarioBase, dtype: float64"
            ]
          },
          "metadata": {},
          "execution_count": 194
        }
      ]
    },
    {
      "cell_type": "markdown",
      "source": [
        "Plotagem feita com todos os dados Filtrados, dessa forma temos uma ideia mais real das racas com os salariosBase.\n",
        "\n",
        " Porem os asiaticos acabam sendo um total de 11 mil dos respondentes, isso provavelmente acaba jogando a media para baixo"
      ],
      "metadata": {
        "id": "PV6GDYYj4Hg2"
      }
    },
    {
      "cell_type": "code",
      "source": [
        "dfiltrado_race.groupby([\"raca\"])['salarioBase'].mean().plot()"
      ],
      "metadata": {
        "colab": {
          "base_uri": "https://localhost:8080/",
          "height": 297
        },
        "id": "-wa4lYbi3SHY",
        "outputId": "82aa48f5-e565-451c-9418-40979ff2a32c"
      },
      "execution_count": null,
      "outputs": [
        {
          "output_type": "execute_result",
          "data": {
            "text/plain": [
              "<matplotlib.axes._subplots.AxesSubplot at 0x7fe5f7d48460>"
            ]
          },
          "metadata": {},
          "execution_count": 197
        },
        {
          "output_type": "display_data",
          "data": {
            "text/plain": [
              "<Figure size 432x288 with 1 Axes>"
            ],
            "image/png": "[encoded data removed]"
          },
          "metadata": {
            "needs_background": "light"
          }
        }
      ]
    },
    {
      "cell_type": "markdown",
      "source": [
        "Verificação das colunas Pais e salario Base\n",
        "\n",
        "Podemos verificar que a uma variação muito grande entre os paises em questão"
      ],
      "metadata": {
        "id": "dVUzHtrT6vVr"
      }
    },
    {
      "cell_type": "markdown",
      "source": [
        "# Gabi"
      ],
      "metadata": {
        "id": "hwORHFfJUtlD"
      }
    },
    {
      "cell_type": "code",
      "source": [
        "df_novo.groupby([\"Pais\"])['salarioBase'].mean().plot()"
      ],
      "metadata": {
        "id": "EYL6hxxjjqmx",
        "colab": {
          "base_uri": "https://localhost:8080/",
          "height": 297
        },
        "outputId": "9e20e470-296c-4247-f35b-55a5025d185c"
      },
      "execution_count": null,
      "outputs": [
        {
          "output_type": "execute_result",
          "data": {
            "text/plain": [
              "<matplotlib.axes._subplots.AxesSubplot at 0x7fe5f795a670>"
            ]
          },
          "metadata": {},
          "execution_count": 219
        },
        {
          "output_type": "display_data",
          "data": {
            "text/plain": [
              "<Figure size 432x288 with 1 Axes>"
            ],
            "image/png": "[encoded data removed]"
          },
          "metadata": {
            "needs_background": "light"
          }
        }
      ]
    },
    {
      "cell_type": "markdown",
      "source": [
        "Os top 10 paises com maiores salarios "
      ],
      "metadata": {
        "id": "-VFJUxih-OZD"
      }
    },
    {
      "cell_type": "code",
      "source": [
        "top_10_Pais = df_novo.groupby([\"Pais\"])['salarioBase'].mean().sort_values(ascending = False).head(10)"
      ],
      "metadata": {
        "id": "HLy--_W84vzt"
      },
      "execution_count": null,
      "outputs": []
    },
    {
      "cell_type": "markdown",
      "source": [
        "Plotagem com o Kindh para verificarmos visualmente os 10 maiores paises em questão de salario"
      ],
      "metadata": {
        "id": "6YEbpFQi-Zoi"
      }
    },
    {
      "cell_type": "code",
      "source": [
        "top_10_Pais.sort_values(ascending = True).plot(kind = \"barh\")"
      ],
      "metadata": {
        "colab": {
          "base_uri": "https://localhost:8080/",
          "height": 283
        },
        "id": "iU4Yejff4QKN",
        "outputId": "21babb0f-9142-419f-d32a-3f7d45ab76a4"
      },
      "execution_count": null,
      "outputs": [
        {
          "output_type": "execute_result",
          "data": {
            "text/plain": [
              "<matplotlib.axes._subplots.AxesSubplot at 0x7fe5f6b99100>"
            ]
          },
          "metadata": {},
          "execution_count": 208
        },
        {
          "output_type": "display_data",
          "data": {
            "text/plain": [
              "<Figure size 432x288 with 1 Axes>"
            ],
            "image/png": "[encoded data removed]"
          },
          "metadata": {
            "needs_background": "light"
          }
        }
      ]
    },
    {
      "cell_type": "markdown",
      "source": [
        "Tabela para verificarmos os salarios bases de todos os paises envolvidos nas pesquisa em questão"
      ],
      "metadata": {
        "id": "WOqZMKSH_a2c"
      }
    },
    {
      "cell_type": "code",
      "source": [
        "df_novo.groupby([\"Pais\"])['salarioBase'].mean().sort_values(ascending = False)"
      ],
      "metadata": {
        "id": "dq0gbsgWjqgE"
      },
      "execution_count": null,
      "outputs": []
    },
    {
      "cell_type": "markdown",
      "source": [
        "Verificação da relação entre anos de experiencia e salario base "
      ],
      "metadata": {
        "id": "IBhoGwoV_kti"
      }
    },
    {
      "cell_type": "code",
      "source": [
        "df_novo.groupby([\"anosExperiencia\"])['salarioBase'].mean().sort_values(ascending = False).head(10)"
      ],
      "metadata": {
        "id": "jwivI-2fjqbV"
      },
      "execution_count": null,
      "outputs": []
    },
    {
      "cell_type": "markdown",
      "source": [
        "Foi verificado que existe um pico muito ascentudo entre 0 e 10 anos se estabilizando logo a seguir, podemos chegar a conclusão que por conta da alta do profissional de tecnologia no mercado e com a possibilidade da home office alguns salarios subiram de forma ascentuada, ou são profissionais que são mais direcionados para linguagens mais utilizados no mercado"
      ],
      "metadata": {
        "id": "y836D71rBkkr"
      }
    },
    {
      "cell_type": "code",
      "source": [
        "df_novo.groupby([\"anosExperiencia\"])['salarioBase'].mean().plot()"
      ],
      "metadata": {
        "colab": {
          "base_uri": "https://localhost:8080/",
          "height": 297
        },
        "id": "ZdYPAuEz-vSv",
        "outputId": "b3d76324-2fdb-4248-c691-103aec613919"
      },
      "execution_count": null,
      "outputs": [
        {
          "output_type": "execute_result",
          "data": {
            "text/plain": [
              "<matplotlib.axes._subplots.AxesSubplot at 0x7fe5f8ef1be0>"
            ]
          },
          "metadata": {},
          "execution_count": 229
        },
        {
          "output_type": "display_data",
          "data": {
            "text/plain": [
              "<Figure size 432x288 with 1 Axes>"
            ],
            "image/png": "[encoded data removed]"
          },
          "metadata": {
            "needs_background": "light"
          }
        }
      ]
    },
    {
      "cell_type": "markdown",
      "source": [
        "Verificacao de Salario Base em questão do genero, podemos verificar que dado a base em questão não temos uma diferença de salarios em questão de genero"
      ],
      "metadata": {
        "id": "YpAyP-ZcCXXK"
      }
    },
    {
      "cell_type": "code",
      "source": [
        "df_novo.groupby([\"genero\"])['salarioBase'].mean()"
      ],
      "metadata": {
        "id": "6W2FSfRWjqZG",
        "colab": {
          "base_uri": "https://localhost:8080/"
        },
        "outputId": "75edbae6-b198-43aa-e685-e080410b2788"
      },
      "execution_count": null,
      "outputs": [
        {
          "output_type": "execute_result",
          "data": {
            "text/plain": [
              "genero\n",
              "Female           136923.088788\n",
              "Male             139458.877769\n",
              "Não informado    147662.749632\n",
              "Other            150090.041013\n",
              "Name: salarioBase, dtype: float64"
            ]
          },
          "metadata": {},
          "execution_count": 239
        }
      ]
    },
    {
      "cell_type": "code",
      "source": [
        "df_genero_plot = df_novo.groupby([\"genero\"])['salarioBase'].mean()\n",
        "\n",
        "df_genero_plot.plot(kind = \"barh\")"
      ],
      "metadata": {
        "colab": {
          "base_uri": "https://localhost:8080/",
          "height": 283
        },
        "id": "SYjAxHpLAas-",
        "outputId": "d51dfb0a-0542-4852-b19a-76da42d744a2"
      },
      "execution_count": null,
      "outputs": [
        {
          "output_type": "execute_result",
          "data": {
            "text/plain": [
              "<matplotlib.axes._subplots.AxesSubplot at 0x7fe5f694d490>"
            ]
          },
          "metadata": {},
          "execution_count": 242
        },
        {
          "output_type": "display_data",
          "data": {
            "text/plain": [
              "<Figure size 432x288 with 1 Axes>"
            ],
            "image/png": "[encoded data removed]"
          },
          "metadata": {
            "needs_background": "light"
          }
        }
      ]
    },
    {
      "cell_type": "markdown",
      "source": [
        "Verificação de salario Base pela educação, devido a area de tecnologia nãos ser uma area tão rigida como outras, há a possibilidade de haver desenvolvedores sem graduação mais elevadas trabalhando na area, dessa forma verificamos se existe realmente uma variação de salario devido a educação conquistada."
      ],
      "metadata": {
        "id": "RNDxZ7c2FuDR"
      }
    },
    {
      "cell_type": "code",
      "source": [
        "df_novo.groupby([\"Educacao\"])['salarioBase'].count().sort_values(ascending = False)"
      ],
      "metadata": {
        "id": "9Ky4mZYhjqSz",
        "colab": {
          "base_uri": "https://localhost:8080/"
        },
        "outputId": "cafc857c-6b91-4db5-bf23-c65d8a3bd627"
      },
      "execution_count": null,
      "outputs": [
        {
          "output_type": "execute_result",
          "data": {
            "text/plain": [
              "Educacao\n",
              "Não informado        32272\n",
              "Master's Degree      15391\n",
              "Bachelor's Degree    12601\n",
              "PhD                   1703\n",
              "Some College           355\n",
              "Highschool             320\n",
              "Name: salarioBase, dtype: int64"
            ]
          },
          "metadata": {},
          "execution_count": 243
        }
      ]
    },
    {
      "cell_type": "code",
      "source": [
        "df_novo.groupby([\"Educacao\"])['salarioBase'].mean().sort_values(ascending = False)"
      ],
      "metadata": {
        "colab": {
          "base_uri": "https://localhost:8080/"
        },
        "id": "J2HwPrqFD7XL",
        "outputId": "7452a942-08cb-4ec9-f5b1-607aaae33a31"
      },
      "execution_count": null,
      "outputs": [
        {
          "output_type": "execute_result",
          "data": {
            "text/plain": [
              "Educacao\n",
              "PhD                  173409.864944\n",
              "Master's Degree      145753.042528\n",
              "Não informado        145339.529064\n",
              "Some College         141966.197183\n",
              "Highschool           129378.125000\n",
              "Bachelor's Degree    123958.495358\n",
              "Name: salarioBase, dtype: float64"
            ]
          },
          "metadata": {},
          "execution_count": 257
        }
      ]
    },
    {
      "cell_type": "code",
      "source": [
        "dfiltrado_educacao = df_novo.loc[df_novo['Educacao'] != 'Não informado']\n",
        "\n",
        "df_educacao_plot = dfiltrado_educacao.groupby([\"Educacao\"])['salarioBase'].mean().sort_values(ascending = False)\n",
        "\n",
        "df_educacao_plot.plot(kind = \"bar\")"
      ],
      "metadata": {
        "colab": {
          "base_uri": "https://localhost:8080/",
          "height": 379
        },
        "id": "7c7izzezA4mF",
        "outputId": "1af7e7a2-9711-47e2-e602-8a711886ad1a"
      },
      "execution_count": null,
      "outputs": [
        {
          "output_type": "execute_result",
          "data": {
            "text/plain": [
              "<matplotlib.axes._subplots.AxesSubplot at 0x7fe5f8040fa0>"
            ]
          },
          "metadata": {},
          "execution_count": 267
        },
        {
          "output_type": "display_data",
          "data": {
            "text/plain": [
              "<Figure size 432x288 with 1 Axes>"
            ],
            "image/png": "[encoded data removed]"
          },
          "metadata": {
            "needs_background": "light"
          }
        }
      ]
    },
    {
      "cell_type": "markdown",
      "source": [
        "Verificação de colunas Tempo na Empresa e ganhoAnual, verificamos se quanto mais tempo na empresa mais temos ganhos devido a experiencia"
      ],
      "metadata": {
        "id": "nCKC68NUGp9u"
      }
    },
    {
      "cell_type": "code",
      "source": [
        "df_novo.groupby([\"temponaEmpresa\"])['ganhoAnual'].mean().sort_values(ascending = False).head(10)"
      ],
      "metadata": {
        "id": "a2OU1hTGj-bh",
        "colab": {
          "base_uri": "https://localhost:8080/"
        },
        "outputId": "743f9eb9-fcec-4980-b65d-bd34d1bbf94e"
      },
      "execution_count": null,
      "outputs": [
        {
          "output_type": "execute_result",
          "data": {
            "text/plain": [
              "temponaEmpresa\n",
              "28.00    680000.000000\n",
              "27.00    603800.000000\n",
              "30.00    440000.000000\n",
              "2.40     431000.000000\n",
              "2.30     402000.000000\n",
              "4.80     393000.000000\n",
              "26.00    332833.333333\n",
              "23.00    325950.000000\n",
              "4.75     325000.000000\n",
              "3.70     322500.000000\n",
              "Name: ganhoAnual, dtype: float64"
            ]
          },
          "metadata": {},
          "execution_count": 270
        }
      ]
    },
    {
      "cell_type": "code",
      "source": [
        "df_novo.groupby([\"temponaEmpresa\"])['ganhoAnual'].mean().plot()"
      ],
      "metadata": {
        "colab": {
          "base_uri": "https://localhost:8080/",
          "height": 298
        },
        "id": "UpP3ibjTHOYH",
        "outputId": "21a9f0c6-8925-4e5d-ed0f-e9fd3de5ccd6"
      },
      "execution_count": null,
      "outputs": [
        {
          "output_type": "execute_result",
          "data": {
            "text/plain": [
              "<matplotlib.axes._subplots.AxesSubplot at 0x7fe5f9005a90>"
            ]
          },
          "metadata": {},
          "execution_count": 271
        },
        {
          "output_type": "display_data",
          "data": {
            "text/plain": [
              "<Figure size 432x288 with 1 Axes>"
            ],
            "image/png": "[encoded data removed]"
          },
          "metadata": {
            "needs_background": "light"
          }
        }
      ]
    },
    {
      "cell_type": "markdown",
      "source": [
        "Verificação de colunas Compania e ganhoAnual, verificamos se quais empresas tem os maiores salarios anuais medios."
      ],
      "metadata": {
        "id": "pwOH-hcMHZ7B"
      }
    },
    {
      "cell_type": "code",
      "source": [
        "df_filtrado_compania = df_novo.groupby([\"compania\"])['ganhoAnual'].mean().sort_values(ascending = False).head(10)"
      ],
      "metadata": {
        "id": "1FgRBZRvj-XE"
      },
      "execution_count": null,
      "outputs": []
    },
    {
      "cell_type": "code",
      "source": [
        "df_filtrado_compania.plot(kind = \"barh\")"
      ],
      "metadata": {
        "colab": {
          "base_uri": "https://localhost:8080/",
          "height": 283
        },
        "id": "Gy5PrvKQHtn2",
        "outputId": "c4c311f4-b7d9-4ed9-ecf4-5feb7c6fd853"
      },
      "execution_count": null,
      "outputs": [
        {
          "output_type": "execute_result",
          "data": {
            "text/plain": [
              "<matplotlib.axes._subplots.AxesSubplot at 0x7fe5f970ee50>"
            ]
          },
          "metadata": {},
          "execution_count": 274
        },
        {
          "output_type": "display_data",
          "data": {
            "text/plain": [
              "<Figure size 432x288 with 1 Axes>"
            ],
            "image/png": "[encoded data removed]"
          },
          "metadata": {
            "needs_background": "light"
          }
        }
      ]
    },
    {
      "cell_type": "markdown",
      "source": [
        "Verificando as colunas genero por ganho atual, podemos ver claramente que as pessoas do genero feminino tem um menor ganho atual, sendo mais ou menos 5% comparado aos homens e comparado a outros é uma diferença de mais de 10%"
      ],
      "metadata": {
        "id": "b-FMSneyIG9X"
      }
    },
    {
      "cell_type": "code",
      "source": [
        "df_novo.groupby([\"genero\"])['ganhoAnual'].mean().sort_values(ascending = False)"
      ],
      "metadata": {
        "id": "ht8zX1Bbj-S0",
        "colab": {
          "base_uri": "https://localhost:8080/"
        },
        "outputId": "375f51c7-6103-4477-af23-a8dc428498d2"
      },
      "execution_count": null,
      "outputs": [
        {
          "output_type": "execute_result",
          "data": {
            "text/plain": [
              "genero\n",
              "Other            232347.500000\n",
              "Não informado    230598.485236\n",
              "Male             212446.977928\n",
              "Female           195119.588513\n",
              "Name: ganhoAnual, dtype: float64"
            ]
          },
          "metadata": {},
          "execution_count": 275
        }
      ]
    },
    {
      "cell_type": "code",
      "source": [
        "df_novo.groupby([\"genero\"])['ganhoAnual'].mean().plot()"
      ],
      "metadata": {
        "colab": {
          "base_uri": "https://localhost:8080/",
          "height": 297
        },
        "id": "yyVFmfL1H6tt",
        "outputId": "af9525b7-7ad9-4357-b17b-6f3975d7a822"
      },
      "execution_count": null,
      "outputs": [
        {
          "output_type": "execute_result",
          "data": {
            "text/plain": [
              "<matplotlib.axes._subplots.AxesSubplot at 0x7fe5f6d02af0>"
            ]
          },
          "metadata": {},
          "execution_count": 277
        },
        {
          "output_type": "display_data",
          "data": {
            "text/plain": [
              "<Figure size 432x288 with 1 Axes>"
            ],
            "image/png": "[encoded data removed]"
          },
          "metadata": {
            "needs_background": "light"
          }
        }
      ]
    },
    {
      "cell_type": "markdown",
      "source": [
        "Apesar de os Asiaticos estarem em ultimo lugar na verificação por salario base, na questão de salario Anual as cosias mudam onde as pessoas da colocaração negra acabam ficando em ultimo lugar"
      ],
      "metadata": {
        "id": "sA5fJHuKI_lj"
      }
    },
    {
      "cell_type": "code",
      "source": [
        "df_novo.groupby([\"raca\"])['ganhoAnual'].mean().sort_values(ascending = False)"
      ],
      "metadata": {
        "id": "miwMHSNaj-Qg",
        "colab": {
          "base_uri": "https://localhost:8080/"
        },
        "outputId": "ccad911b-cec2-4aab-8dc0-c52849e9039f"
      },
      "execution_count": null,
      "outputs": [
        {
          "output_type": "execute_result",
          "data": {
            "text/plain": [
              "raca\n",
              "Não informado    226604.277160\n",
              "White            206293.700199\n",
              "Two Or More      204651.741294\n",
              "Asian            193324.753653\n",
              "Hispanic         189701.505757\n",
              "Black            181324.637681\n",
              "Name: ganhoAnual, dtype: float64"
            ]
          },
          "metadata": {},
          "execution_count": 278
        }
      ]
    },
    {
      "cell_type": "code",
      "source": [
        "dfiltrado_race.groupby([\"raca\"])['ganhoAnual'].mean().plot()"
      ],
      "metadata": {
        "colab": {
          "base_uri": "https://localhost:8080/",
          "height": 297
        },
        "id": "yYko3r0VIw2J",
        "outputId": "a6d7d011-8d7f-4619-9045-320334b35c62"
      },
      "execution_count": null,
      "outputs": [
        {
          "output_type": "execute_result",
          "data": {
            "text/plain": [
              "<matplotlib.axes._subplots.AxesSubplot at 0x7fe5f6fbea30>"
            ]
          },
          "metadata": {},
          "execution_count": 280
        },
        {
          "output_type": "display_data",
          "data": {
            "text/plain": [
              "<Figure size 432x288 with 1 Axes>"
            ],
            "image/png": "[encoded data removed]"
          },
          "metadata": {
            "needs_background": "light"
          }
        }
      ]
    },
    {
      "cell_type": "markdown",
      "source": [
        "Fizemos as verificação para chegarmos a uma conclusão quais eram os maiores graus de escolaridade se era homens, mulheres, outros."
      ],
      "metadata": {
        "id": "D1QAve59KFHT"
      }
    },
    {
      "cell_type": "markdown",
      "source": [
        "# Jayson"
      ],
      "metadata": {
        "id": "Kea_3rPJU8jV"
      }
    },
    {
      "cell_type": "code",
      "source": [
        "# verificar a educação por gênero\n",
        "Tabela_Cruzada = pd.crosstab(df_novo.genero, df_novo.Educacao)\n",
        "\n",
        "\n",
        "Tabela_Cruzada.rename(columns ={\"Bachelor's Degree\": \"Bacharelado\",\n",
        "                          \"Highschool\": \"Ensino médio\",\n",
        "                          \"Master's Degree\":\"Mestrado\",\n",
        "                          \"PhD\":\"Doutorado\",\n",
        "                          \"Some College\":\"Outros\",\n",
        "                          },\n",
        "                inplace=True )\n",
        "\n",
        "\n",
        "Tabela_Cruzada.loc['Total']= Tabela_Cruzada.sum(numeric_only=True, axis=0,)\n",
        "\n",
        "Tabela_Cruzada.loc[:,'Total'] = Tabela_Cruzada.sum(numeric_only=True, axis=1)\n",
        "\n",
        "Tabela_Cruzada"
      ],
      "metadata": {
        "id": "49w6aBRQkGrj",
        "colab": {
          "base_uri": "https://localhost:8080/",
          "height": 237
        },
        "outputId": "6c83642d-6b2d-4ba3-95bc-9971c450ac77"
      },
      "execution_count": null,
      "outputs": [
        {
          "output_type": "execute_result",
          "data": {
            "text/plain": [
              "Educacao       Bacharelado  Ensino médio  Mestrado  Não informado  Doutorado  \\\n",
              "genero                                                                         \n",
              "Female                2186            13      2470           2089        200   \n",
              "Male                  9620           289     11236          13023       1229   \n",
              "Não informado          726            10      1596          16937        265   \n",
              "Other                   69             8        89            223          9   \n",
              "Total                12601           320     15391          32272       1703   \n",
              "\n",
              "Educacao       Outros  Total  \n",
              "genero                        \n",
              "Female             41   6999  \n",
              "Male              305  35702  \n",
              "Não informado       7  19541  \n",
              "Other               2    400  \n",
              "Total             355  62642  "
            ],
            "text/html": [
              "\n",
              "  <div id=\"df-5aed6562-70b2-4407-a418-ce17685059f4\">\n",
              "    <div class=\"colab-df-container\">\n",
              "      <div>\n",
              "<style scoped>\n",
              "    .dataframe tbody tr th:only-of-type {\n",
              "        vertical-align: middle;\n",
              "    }\n",
              "\n",
              "    .dataframe tbody tr th {\n",
              "        vertical-align: top;\n",
              "    }\n",
              "\n",
              "    .dataframe thead th {\n",
              "        text-align: right;\n",
              "    }\n",
              "</style>\n",
              "<table border=\"1\" class=\"dataframe\">\n",
              "  <thead>\n",
              "    <tr style=\"text-align: right;\">\n",
              "      <th>Educacao</th>\n",
              "      <th>Bacharelado</th>\n",
              "      <th>Ensino médio</th>\n",
              "      <th>Mestrado</th>\n",
              "      <th>Não informado</th>\n",
              "      <th>Doutorado</th>\n",
              "      <th>Outros</th>\n",
              "      <th>Total</th>\n",
              "    </tr>\n",
              "    <tr>\n",
              "      <th>genero</th>\n",
              "      <th></th>\n",
              "      <th></th>\n",
              "      <th></th>\n",
              "      <th></th>\n",
              "      <th></th>\n",
              "      <th></th>\n",
              "      <th></th>\n",
              "    </tr>\n",
              "  </thead>\n",
              "  <tbody>\n",
              "    <tr>\n",
              "      <th>Female</th>\n",
              "      <td>2186</td>\n",
              "      <td>13</td>\n",
              "      <td>2470</td>\n",
              "      <td>2089</td>\n",
              "      <td>200</td>\n",
              "      <td>41</td>\n",
              "      <td>6999</td>\n",
              "    </tr>\n",
              "    <tr>\n",
              "      <th>Male</th>\n",
              "      <td>9620</td>\n",
              "      <td>289</td>\n",
              "      <td>11236</td>\n",
              "      <td>13023</td>\n",
              "      <td>1229</td>\n",
              "      <td>305</td>\n",
              "      <td>35702</td>\n",
              "    </tr>\n",
              "    <tr>\n",
              "      <th>Não informado</th>\n",
              "      <td>726</td>\n",
              "      <td>10</td>\n",
              "      <td>1596</td>\n",
              "      <td>16937</td>\n",
              "      <td>265</td>\n",
              "      <td>7</td>\n",
              "      <td>19541</td>\n",
              "    </tr>\n",
              "    <tr>\n",
              "      <th>Other</th>\n",
              "      <td>69</td>\n",
              "      <td>8</td>\n",
              "      <td>89</td>\n",
              "      <td>223</td>\n",
              "      <td>9</td>\n",
              "      <td>2</td>\n",
              "      <td>400</td>\n",
              "    </tr>\n",
              "    <tr>\n",
              "      <th>Total</th>\n",
              "      <td>12601</td>\n",
              "      <td>320</td>\n",
              "      <td>15391</td>\n",
              "      <td>32272</td>\n",
              "      <td>1703</td>\n",
              "      <td>355</td>\n",
              "      <td>62642</td>\n",
              "    </tr>\n",
              "  </tbody>\n",
              "</table>\n",
              "</div>\n",
              "      <button class=\"colab-df-convert\" onclick=\"convertToInteractive('df-5aed6562-70b2-4407-a418-ce17685059f4')\"\n",
              "              title=\"Convert this dataframe to an interactive table.\"\n",
              "              style=\"display:none;\">\n",
              "        \n",
              "  <svg xmlns=\"http://www.w3.org/2000/svg\" height=\"24px\"viewBox=\"0 0 24 24\"\n",
              "       width=\"24px\">\n",
              "    <path d=\"M0 0h24v24H0V0z\" fill=\"none\"/>\n",
              "    <path d=\"M18.56 5.44l.94 2.06.94-2.06 2.06-.94-2.06-.94-.94-2.06-.94 2.06-2.06.94zm-11 1L8.5 8.5l.94-2.06 2.06-.94-2.06-.94L8.5 2.5l-.94 2.06-2.06.94zm10 10l.94 2.06.94-2.06 2.06-.94-2.06-.94-.94-2.06-.94 2.06-2.06.94z\"/><path d=\"M17.41 7.96l-1.37-1.37c-.4-.4-.92-.59-1.43-.59-.52 0-1.04.2-1.43.59L10.3 9.45l-7.72 7.72c-.78.78-.78 2.05 0 2.83L4 21.41c.39.39.9.59 1.41.59.51 0 1.02-.2 1.41-.59l7.78-7.78 2.81-2.81c.8-.78.8-2.07 0-2.86zM5.41 20L4 18.59l7.72-7.72 1.47 1.35L5.41 20z\"/>\n",
              "  </svg>\n",
              "      </button>\n",
              "      \n",
              "  <style>\n",
              "    .colab-df-container {\n",
              "      display:flex;\n",
              "      flex-wrap:wrap;\n",
              "      gap: 12px;\n",
              "    }\n",
              "\n",
              "    .colab-df-convert {\n",
              "      background-color: #E8F0FE;\n",
              "      border: none;\n",
              "      border-radius: 50%;\n",
              "      cursor: pointer;\n",
              "      display: none;\n",
              "      fill: #1967D2;\n",
              "      height: 32px;\n",
              "      padding: 0 0 0 0;\n",
              "      width: 32px;\n",
              "    }\n",
              "\n",
              "    .colab-df-convert:hover {\n",
              "      background-color: #E2EBFA;\n",
              "      box-shadow: 0px 1px 2px rgba(60, 64, 67, 0.3), 0px 1px 3px 1px rgba(60, 64, 67, 0.15);\n",
              "      fill: #174EA6;\n",
              "    }\n",
              "\n",
              "    [theme=dark] .colab-df-convert {\n",
              "      background-color: #3B4455;\n",
              "      fill: #D2E3FC;\n",
              "    }\n",
              "\n",
              "    [theme=dark] .colab-df-convert:hover {\n",
              "      background-color: #434B5C;\n",
              "      box-shadow: 0px 1px 3px 1px rgba(0, 0, 0, 0.15);\n",
              "      filter: drop-shadow(0px 1px 2px rgba(0, 0, 0, 0.3));\n",
              "      fill: #FFFFFF;\n",
              "    }\n",
              "  </style>\n",
              "\n",
              "      <script>\n",
              "        const buttonEl =\n",
              "          document.querySelector('#df-5aed6562-70b2-4407-a418-ce17685059f4 button.colab-df-convert');\n",
              "        buttonEl.style.display =\n",
              "          google.colab.kernel.accessAllowed ? 'block' : 'none';\n",
              "\n",
              "        async function convertToInteractive(key) {\n",
              "          const element = document.querySelector('#df-5aed6562-70b2-4407-a418-ce17685059f4');\n",
              "          const dataTable =\n",
              "            await google.colab.kernel.invokeFunction('convertToInteractive',\n",
              "                                                     [key], {});\n",
              "          if (!dataTable) return;\n",
              "\n",
              "          const docLinkHtml = 'Like what you see? Visit the ' +\n",
              "            '<a target=\"_blank\" href=https://colab.research.google.com/notebooks/data_table.ipynb>data table notebook</a>'\n",
              "            + ' to learn more about interactive tables.';\n",
              "          element.innerHTML = '';\n",
              "          dataTable['output_type'] = 'display_data';\n",
              "          await google.colab.output.renderOutput(dataTable, element);\n",
              "          const docLink = document.createElement('div');\n",
              "          docLink.innerHTML = docLinkHtml;\n",
              "          element.appendChild(docLink);\n",
              "        }\n",
              "      </script>\n",
              "    </div>\n",
              "  </div>\n",
              "  "
            ]
          },
          "metadata": {},
          "execution_count": 256
        }
      ]
    },
    {
      "cell_type": "code",
      "source": [
        "df_novo['profissao'].value_counts()"
      ],
      "metadata": {
        "colab": {
          "base_uri": "https://localhost:8080/"
        },
        "id": "E20DsZlk2WYt",
        "outputId": "183bc431-4def-425d-da6d-5dba73126c4e"
      },
      "execution_count": null,
      "outputs": [
        {
          "output_type": "execute_result",
          "data": {
            "text/plain": [
              "Software Engineer               41231\n",
              "Product Manager                  4673\n",
              "Software Engineering Manager     3569\n",
              "Data Scientist                   2578\n",
              "Hardware Engineer                2200\n",
              "Product Designer                 1516\n",
              "Technical Program Manager        1381\n",
              "Solution Architect               1157\n",
              "Management Consultant             976\n",
              "Business Analyst                  885\n",
              "Marketing                         710\n",
              "Mechanical Engineer               490\n",
              "Sales                             461\n",
              "Recruiter                         451\n",
              "Human Resources                   364\n",
              "Name: profissao, dtype: int64"
            ]
          },
          "metadata": {},
          "execution_count": 173
        }
      ]
    },
    {
      "cell_type": "code",
      "source": [
        "dfiltrado_gender = df_novo.loc[df_novo['genero'] != 'Não informado']"
      ],
      "metadata": {
        "id": "xCeBnbFbyXNS"
      },
      "execution_count": null,
      "outputs": []
    },
    {
      "cell_type": "markdown",
      "source": [
        "Empresas que pagam mais valores de ações por funcionario"
      ],
      "metadata": {
        "id": "wQ7tfFPqK9Ru"
      }
    },
    {
      "cell_type": "code",
      "source": [
        "df_novo.groupby([\"compania\"])['SGV'].mean().sort_values(ascending = False).head(10).plot(kind = \"barh\")"
      ],
      "metadata": {
        "id": "aywrU9jEqNsN",
        "colab": {
          "base_uri": "https://localhost:8080/",
          "height": 283
        },
        "outputId": "ad90de89-b528-440b-a0fc-463ef2828efe"
      },
      "execution_count": null,
      "outputs": [
        {
          "output_type": "execute_result",
          "data": {
            "text/plain": [
              "<matplotlib.axes._subplots.AxesSubplot at 0x7fe5f8989670>"
            ]
          },
          "metadata": {},
          "execution_count": 190
        },
        {
          "output_type": "display_data",
          "data": {
            "text/plain": [
              "<Figure size 432x288 with 1 Axes>"
            ],
            "image/png": "[encoded data removed]"
          },
          "metadata": {
            "needs_background": "light"
          }
        }
      ]
    },
    {
      "cell_type": "markdown",
      "source": [
        "Verificação de quais são as empresas com mais respondentes a pesquisa"
      ],
      "metadata": {
        "id": "_NpZD-aSKsDv"
      }
    },
    {
      "cell_type": "code",
      "source": [
        "dfiltrado_gender.groupby([\"compania\"])['genero'].count().sort_values(ascending = False).head(10)"
      ],
      "metadata": {
        "id": "3LsCfU7psZQl",
        "colab": {
          "base_uri": "https://localhost:8080/"
        },
        "outputId": "80322f57-f825-4a68-e276-d4701dbd26f3"
      },
      "execution_count": null,
      "outputs": [
        {
          "output_type": "execute_result",
          "data": {
            "text/plain": [
              "compania\n",
              "AMAZON        3689\n",
              "MICROSOFT     2324\n",
              "GOOGLE        1927\n",
              "FACEBOOK      1434\n",
              "APPLE          921\n",
              "ORACLE         577\n",
              "INTEL          544\n",
              "CISCO          480\n",
              "IBM            473\n",
              "SALESFORCE     443\n",
              "Name: genero, dtype: int64"
            ]
          },
          "metadata": {},
          "execution_count": 287
        }
      ]
    },
    {
      "cell_type": "markdown",
      "source": [
        "Verificação das companias que pagam os melhores salarios base em media"
      ],
      "metadata": {
        "id": "z0FtJ8BLLJZL"
      }
    },
    {
      "cell_type": "code",
      "source": [
        "df_compania = df_novo.groupby([\"compania\"])['salarioBase'].mean().sort_values(ascending = False).head(10)"
      ],
      "metadata": {
        "id": "QKD9gjyMsqDi"
      },
      "execution_count": null,
      "outputs": []
    },
    {
      "cell_type": "code",
      "source": [
        "df_compania.plot(kind = 'barh')"
      ],
      "metadata": {
        "colab": {
          "base_uri": "https://localhost:8080/",
          "height": 283
        },
        "id": "I9VvhQB6LUIc",
        "outputId": "68308493-49ec-43e5-8147-50e9fef09445"
      },
      "execution_count": null,
      "outputs": [
        {
          "output_type": "execute_result",
          "data": {
            "text/plain": [
              "<matplotlib.axes._subplots.AxesSubplot at 0x7fe5f894bac0>"
            ]
          },
          "metadata": {},
          "execution_count": 290
        },
        {
          "output_type": "display_data",
          "data": {
            "text/plain": [
              "<Figure size 432x288 with 1 Axes>"
            ],
            "image/png": "[encoded data removed]"
          },
          "metadata": {
            "needs_background": "light"
          }
        }
      ]
    },
    {
      "cell_type": "markdown",
      "source": [
        "Verificação dos salarios base por profissão, verificamos que apesar de possuirmos 41 mil engenheiro de softwares o mesmo ficou dentro da media"
      ],
      "metadata": {
        "id": "gpDSzqXyMBXL"
      }
    },
    {
      "cell_type": "code",
      "source": [
        "df_novo[\"profissao\"].value_counts()"
      ],
      "metadata": {
        "colab": {
          "base_uri": "https://localhost:8080/"
        },
        "id": "vM8G4ceKMWNb",
        "outputId": "5e6e3f1b-6262-46c6-be16-3802aab5351f"
      },
      "execution_count": null,
      "outputs": [
        {
          "output_type": "execute_result",
          "data": {
            "text/plain": [
              "Software Engineer               41231\n",
              "Product Manager                  4673\n",
              "Software Engineering Manager     3569\n",
              "Data Scientist                   2578\n",
              "Hardware Engineer                2200\n",
              "Product Designer                 1516\n",
              "Technical Program Manager        1381\n",
              "Solution Architect               1157\n",
              "Management Consultant             976\n",
              "Business Analyst                  885\n",
              "Marketing                         710\n",
              "Mechanical Engineer               490\n",
              "Sales                             461\n",
              "Recruiter                         451\n",
              "Human Resources                   364\n",
              "Name: profissao, dtype: int64"
            ]
          },
          "metadata": {},
          "execution_count": 296
        }
      ]
    },
    {
      "cell_type": "code",
      "source": [
        "df_novo.groupby([\"profissao\"])['salarioBase'].mean().sort_values(ascending = False)"
      ],
      "metadata": {
        "colab": {
          "base_uri": "https://localhost:8080/"
        },
        "id": "gPHVyKzC1GVO",
        "outputId": "447105e2-0cd7-4cbd-84fe-166250c6a4dd"
      },
      "execution_count": null,
      "outputs": [
        {
          "output_type": "execute_result",
          "data": {
            "text/plain": [
              "profissao\n",
              "Software Engineering Manager    183167.158148\n",
              "Technical Program Manager       156656.158659\n",
              "Product Manager                 156639.762569\n",
              "Solution Architect              146905.006937\n",
              "Data Scientist                  143341.582737\n",
              "Hardware Engineer               142536.167039\n",
              "Product Designer                142117.538205\n",
              "Marketing                       141349.514237\n",
              "Software Engineer               137595.752516\n",
              "Management Consultant           136195.696721\n",
              "Human Resources                 128972.740533\n",
              "Sales                           119677.462508\n",
              "Mechanical Engineer             118738.933784\n",
              "Recruiter                       118421.801912\n",
              "Business Analyst                103976.534081\n",
              "Name: salarioBase, dtype: float64"
            ]
          },
          "metadata": {},
          "execution_count": 291
        }
      ]
    },
    {
      "cell_type": "code",
      "source": [
        "df_novo.groupby([\"profissao\"])['salarioBase'].mean().plot(kind = \"bar\")"
      ],
      "metadata": {
        "colab": {
          "base_uri": "https://localhost:8080/",
          "height": 442
        },
        "id": "1t1D6jQiLl8J",
        "outputId": "5b722815-3385-41ed-e8c9-072e00c878f0"
      },
      "execution_count": null,
      "outputs": [
        {
          "output_type": "execute_result",
          "data": {
            "text/plain": [
              "<matplotlib.axes._subplots.AxesSubplot at 0x7fe5f93173a0>"
            ]
          },
          "metadata": {},
          "execution_count": 293
        },
        {
          "output_type": "display_data",
          "data": {
            "text/plain": [
              "<Figure size 432x288 with 1 Axes>"
            ],
            "image/png": "[encoded data removed]"
          },
          "metadata": {
            "needs_background": "light"
          }
        }
      ]
    },
    {
      "cell_type": "markdown",
      "source": [
        "verificamos para sermos mais precisos os anos de Experencia por salario base, tanto abaixo de 5 anos quanto acima de 10 anos."
      ],
      "metadata": {
        "id": "FB9NjOd-NhDj"
      }
    },
    {
      "cell_type": "code",
      "source": [
        "df_anosExperiencia_5 = df_novo.where(df_novo['anosExperiencia'] <= 5.0).groupby(['anosExperiencia'])['salarioBase'].mean()"
      ],
      "metadata": {
        "id": "TiLhD2ff4uxJ"
      },
      "execution_count": null,
      "outputs": []
    },
    {
      "cell_type": "code",
      "source": [
        "df_anosExperiencia_5.plot()"
      ],
      "metadata": {
        "id": "La1XfLgEMbS0"
      },
      "execution_count": null,
      "outputs": []
    },
    {
      "cell_type": "code",
      "source": [
        "df_anosExperiencia_5.plot(kind = \"bar\")"
      ],
      "metadata": {
        "colab": {
          "base_uri": "https://localhost:8080/",
          "height": 313
        },
        "id": "70XjRG_QMk8X",
        "outputId": "0dba2ca8-5347-4a74-8ce6-588040566544"
      },
      "execution_count": null,
      "outputs": [
        {
          "output_type": "execute_result",
          "data": {
            "text/plain": [
              "<matplotlib.axes._subplots.AxesSubplot at 0x7fe5f7a3c880>"
            ]
          },
          "metadata": {},
          "execution_count": 300
        },
        {
          "output_type": "display_data",
          "data": {
            "text/plain": [
              "<Figure size 432x288 with 1 Axes>"
            ],
            "image/png": "[encoded data removed]"
          },
          "metadata": {
            "needs_background": "light"
          }
        }
      ]
    },
    {
      "cell_type": "code",
      "source": [
        "df_novo.where(df_novo['anosExperiencia'] >= 10.0).groupby(['anosExperiencia'])['salarioBase'].mean().sort_values(ascending = False)"
      ],
      "metadata": {
        "colab": {
          "base_uri": "https://localhost:8080/"
        },
        "id": "LjXcJulp84Wt",
        "outputId": "c1b34e96-0773-4908-c420-a98836a9e647"
      },
      "execution_count": null,
      "outputs": [
        {
          "output_type": "execute_result",
          "data": {
            "text/plain": [
              "anosExperiencia\n",
              "38.0    225750.000000\n",
              "39.0    217000.000000\n",
              "11.5    210000.000000\n",
              "10.5    210000.000000\n",
              "32.0    209636.363636\n",
              "27.0    207593.720720\n",
              "21.0    198108.610782\n",
              "29.0    196863.636364\n",
              "23.0    196264.111070\n",
              "24.0    195459.570829\n",
              "35.0    195374.422071\n",
              "28.0    194624.587193\n",
              "22.0    192607.120046\n",
              "33.0    191333.333333\n",
              "25.0    191258.116717\n",
              "37.0    191215.510808\n",
              "30.0    191134.795175\n",
              "26.0    188693.799116\n",
              "20.0    187697.489175\n",
              "19.0    185718.312844\n",
              "18.0    185468.318535\n",
              "40.0    177416.666667\n",
              "16.0    176475.620307\n",
              "15.0    176453.769412\n",
              "17.0    175767.138950\n",
              "31.0    172571.428571\n",
              "13.0    167447.723349\n",
              "14.0    167321.142726\n",
              "34.0    166250.000000\n",
              "12.0    165476.295543\n",
              "10.0    160130.180975\n",
              "42.0    160000.000000\n",
              "11.0    159189.443819\n",
              "45.0    155000.000000\n",
              "41.0    146000.000000\n",
              "36.0    145333.333333\n",
              "69.0    100000.000000\n",
              "Name: salarioBase, dtype: float64"
            ]
          },
          "metadata": {},
          "execution_count": 316
        }
      ]
    },
    {
      "cell_type": "markdown",
      "source": [
        "Por fim verificamos para sermos mais precisos os tempo na empresa com o  salario base, tanto abaixo de 1 anos quanto acima de 10 anos."
      ],
      "metadata": {
        "id": "k0R2Tl3lOBaD"
      }
    },
    {
      "cell_type": "code",
      "source": [
        "df_empresa_tempo = df_novo.where(df_novo['temponaEmpresa'] >= 10.0).groupby(['temponaEmpresa'])['salarioBase'].mean()"
      ],
      "metadata": {
        "id": "RxIg1ewG-iSU"
      },
      "execution_count": null,
      "outputs": []
    },
    {
      "cell_type": "code",
      "source": [
        "df_novo.where(df_novo['temponaEmpresa'] >= 10.0).groupby(['temponaEmpresa'])['salarioBase'].mean()"
      ],
      "metadata": {
        "id": "xztFYni-N6ZY"
      },
      "execution_count": null,
      "outputs": []
    },
    {
      "cell_type": "code",
      "source": [
        "df_empresa_tempo.plot(kind = \"barh\")"
      ],
      "metadata": {
        "colab": {
          "base_uri": "https://localhost:8080/",
          "height": 283
        },
        "id": "KxKs6UMNNdUd",
        "outputId": "7595d19c-9205-4bcd-93d5-e00fed4fd50f"
      },
      "execution_count": null,
      "outputs": [
        {
          "output_type": "execute_result",
          "data": {
            "text/plain": [
              "<matplotlib.axes._subplots.AxesSubplot at 0x7fe5f60275b0>"
            ]
          },
          "metadata": {},
          "execution_count": 314
        },
        {
          "output_type": "display_data",
          "data": {
            "text/plain": [
              "<Figure size 432x288 with 1 Axes>"
            ],
            "image/png": "[encoded data removed]"
          },
          "metadata": {
            "needs_background": "light"
          }
        }
      ]
    },
    {
      "cell_type": "code",
      "source": [
        "df_novo.where(df_novo['temponaEmpresa'] <= 1.0).groupby(['temponaEmpresa'])['salarioBase'].mean()"
      ],
      "metadata": {
        "colab": {
          "base_uri": "https://localhost:8080/"
        },
        "id": "FGErJxhqOQpl",
        "outputId": "cbc29c9a-80f5-435f-e6ba-b4c4ca494315"
      },
      "execution_count": null,
      "outputs": [
        {
          "output_type": "execute_result",
          "data": {
            "text/plain": [
              "temponaEmpresa\n",
              "0.00    136084.055208\n",
              "0.10    147928.571429\n",
              "0.20    127900.000000\n",
              "0.25    132669.539039\n",
              "0.30    128348.844142\n",
              "0.33    115000.000000\n",
              "0.40    134538.777021\n",
              "0.50    135362.574468\n",
              "0.58    128000.000000\n",
              "0.60    114923.076923\n",
              "0.70    145500.000000\n",
              "0.75     80000.000000\n",
              "0.80    129072.789787\n",
              "0.85    139077.554041\n",
              "1.00    133513.844961\n",
              "Name: salarioBase, dtype: float64"
            ]
          },
          "metadata": {},
          "execution_count": 318
        }
      ]
    },
    {
      "cell_type": "code",
      "source": [
        "df_empresa_1 = df_novo.where(df_novo['temponaEmpresa'] <= 1.0).groupby(['temponaEmpresa'])['salarioBase'].mean()"
      ],
      "metadata": {
        "id": "96XT0lKD-wrd"
      },
      "execution_count": null,
      "outputs": []
    },
    {
      "cell_type": "markdown",
      "source": [
        "Verificamos que há uma queda brusca nos dados que remetem a 0.75 anos de empresa, provavelmente devido a variaçãod e dados referente a localização, pode haver um ruido em questão de paises com crises economicas, onde preferese diminuir o salario a demissão."
      ],
      "metadata": {
        "id": "NqLZLvXwOqLL"
      }
    },
    {
      "cell_type": "code",
      "source": [
        "df_empresa_1.plot(kind = 'bar')"
      ],
      "metadata": {
        "colab": {
          "base_uri": "https://localhost:8080/",
          "height": 310
        },
        "id": "f7ynXIakOWcA",
        "outputId": "d0d0f173-b6b0-4783-b34c-21a9ddc1c8fc"
      },
      "execution_count": null,
      "outputs": [
        {
          "output_type": "execute_result",
          "data": {
            "text/plain": [
              "<matplotlib.axes._subplots.AxesSubplot at 0x7fe5f9eab850>"
            ]
          },
          "metadata": {},
          "execution_count": 321
        },
        {
          "output_type": "display_data",
          "data": {
            "text/plain": [
              "<Figure size 432x288 with 1 Axes>"
            ],
            "image/png": "[encoded data removed]"
          },
          "metadata": {
            "needs_background": "light"
          }
        }
      ]
    }
  ]
}